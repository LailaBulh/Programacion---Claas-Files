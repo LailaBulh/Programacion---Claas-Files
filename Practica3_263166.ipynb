{
  "nbformat": 4,
  "nbformat_minor": 0,
  "metadata": {
    "colab": {
      "provenance": [],
      "authorship_tag": "ABX9TyNQ9Oq8GcesYoJUPiHdT0TD",
      "include_colab_link": true
    },
    "kernelspec": {
      "name": "python3",
      "display_name": "Python 3"
    },
    "language_info": {
      "name": "python"
    }
  },
  "cells": [
    {
      "cell_type": "markdown",
      "metadata": {
        "id": "view-in-github",
        "colab_type": "text"
      },
      "source": [
        "<a href=\"https://colab.research.google.com/github/LailaBulh/Programacion---Claas-Files/blob/main/Practica3_263166.ipynb\" target=\"_parent\"><img src=\"https://colab.research.google.com/assets/colab-badge.svg\" alt=\"Open In Colab\"/></a>"
      ]
    },
    {
      "cell_type": "markdown",
      "source": [
        "link to github:\n",
        "https://github.com/LailaBulh/Programacion---Claas-Files/blob/main/Practica3_263166.ipynb"
      ],
      "metadata": {
        "id": "4WbLuoxMXXa2"
      }
    },
    {
      "cell_type": "code",
      "execution_count": 9,
      "metadata": {
        "id": "D0Y6p7izLCIm"
      },
      "outputs": [],
      "source": [
        "import numpy as np"
      ]
    },
    {
      "cell_type": "code",
      "source": [
        "### Definir arreglo de 20 numeros aleatorios entre 1-100\n",
        "arr = np.random.randint(1,101,20)\n",
        "\n",
        "print(arr)\n",
        "\n",
        "### Encontrar valor maximo del arreglo\n",
        "maxVal = max(arr)\n",
        "print(f' \\nEl valor maximo en el arreglo es: {maxVal} \\n')\n",
        "\n",
        "### Encontrar valor maximo del arreglo\n",
        "minVal = min(arr)\n",
        "print(f'El valor minimo del arreglo es: {minVal} \\n')\n",
        "\n",
        "### Calculo de media del arreglo\n",
        "meanArr = np.mean(arr)\n",
        "print(f'La media del arreglo es: {meanArr} \\n')\n",
        "\n",
        "### Suma de 10 a cada elemento\n",
        "arr2 = arr + 10\n",
        "print(arr2)"
      ],
      "metadata": {
        "colab": {
          "base_uri": "https://localhost:8080/"
        },
        "id": "NeKNe9PQMBpw",
        "outputId": "f4a5713a-5608-422e-b6b1-83d56bab0abf"
      },
      "execution_count": 26,
      "outputs": [
        {
          "output_type": "stream",
          "name": "stdout",
          "text": [
            "[ 50  93  85  17  16  69  23  21  63  95  99  67  99  52  96 100  93  62\n",
            "  19   9]\n",
            " \n",
            "El valor maximo en el arreglo es: 100 \n",
            "\n",
            "El valor minimo del arreglo es: 9 \n",
            "\n",
            "La media del arreglo es: 61.4 \n",
            "\n",
            "[ 60 103  95  27  26  79  33  31  73 105 109  77 109  62 106 110 103  72\n",
            "  29  19]\n"
          ]
        }
      ]
    }
  ]
}