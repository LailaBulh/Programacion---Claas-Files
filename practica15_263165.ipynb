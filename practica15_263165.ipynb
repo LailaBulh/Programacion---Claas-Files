{
  "nbformat": 4,
  "nbformat_minor": 0,
  "metadata": {
    "colab": {
      "provenance": [],
      "authorship_tag": "ABX9TyNgvWwlHu92GunXU+AAt8RB",
      "include_colab_link": true
    },
    "kernelspec": {
      "name": "python3",
      "display_name": "Python 3"
    },
    "language_info": {
      "name": "python"
    }
  },
  "cells": [
    {
      "cell_type": "markdown",
      "metadata": {
        "id": "view-in-github",
        "colab_type": "text"
      },
      "source": [
        "<a href=\"https://colab.research.google.com/github/LailaBulh/Programacion---Claas-Files/blob/main/practica15_263165.ipynb\" target=\"_parent\"><img src=\"https://colab.research.google.com/assets/colab-badge.svg\" alt=\"Open In Colab\"/></a>"
      ]
    },
    {
      "cell_type": "markdown",
      "source": [
        "**Práctica #15: Datos Temporales**\n",
        "\n",
        "link gitHub: [Practica15_LB](https://github.com/LailaBulh/Programacion---Claas-Files/blob/main/practica15_263165.ipynb)"
      ],
      "metadata": {
        "id": "l0hH7GouEROJ"
      }
    },
    {
      "cell_type": "code",
      "source": [
        "### Drive connection\n",
        "\n",
        "from google.colab import drive\n",
        "\n",
        "drive.mount('/content/drive')"
      ],
      "metadata": {
        "colab": {
          "base_uri": "https://localhost:8080/"
        },
        "id": "C-t6R5riE9Z-",
        "outputId": "6305d0c3-bfa9-4627-8d12-fb7d899aed4a"
      },
      "execution_count": 10,
      "outputs": [
        {
          "output_type": "stream",
          "name": "stdout",
          "text": [
            "Drive already mounted at /content/drive; to attempt to forcibly remount, call drive.mount(\"/content/drive\", force_remount=True).\n"
          ]
        }
      ]
    },
    {
      "cell_type": "code",
      "execution_count": 52,
      "metadata": {
        "id": "blThn2Lm3FpZ"
      },
      "outputs": [],
      "source": [
        "import pandas as pd\n",
        "import datetime as dt\n",
        "from datetime import datetime"
      ]
    },
    {
      "cell_type": "markdown",
      "source": [
        "# **Ejercicio 01:Tipo de Datos Correcto**\n"
      ],
      "metadata": {
        "id": "P6jqqj3bGD88"
      }
    },
    {
      "cell_type": "code",
      "source": [
        "### Carga de dataset y revision de datatypes\n",
        "df = pd.read_csv('/content/drive/MyDrive/Programacion_ClassFiles/Airdata.csv')\n",
        "\n",
        "print('Tipo de datos en dataset:\\n')\n",
        "print(df.info())\n",
        "\n",
        "### Cambio de datatype object a datetime en columna 'DateTime'\n",
        "df['DateTime'] = pd.to_datetime(df['DateTime'])\n",
        "\n",
        "### Revision de datatype actualizados\n",
        "print('Tipo de datos actualizado para columna \"DateTime\":\\n')\n",
        "print(df.info())\n",
        "\n",
        "### Primeras filas del dataset\n",
        "print('\\nTOP 3 en dataset:\\n')\n",
        "print(df.head(3))"
      ],
      "metadata": {
        "colab": {
          "base_uri": "https://localhost:8080/"
        },
        "collapsed": true,
        "id": "OQGfDaJBFU3N",
        "outputId": "653c9376-ca1a-48ff-94ee-870370f06b8b"
      },
      "execution_count": 105,
      "outputs": [
        {
          "output_type": "stream",
          "name": "stdout",
          "text": [
            "Tipo de datos en dataset:\n",
            "\n",
            "<class 'pandas.core.frame.DataFrame'>\n",
            "RangeIndex: 8784 entries, 0 to 8783\n",
            "Data columns (total 8 columns):\n",
            " #   Column          Non-Null Count  Dtype  \n",
            "---  ------          --------------  -----  \n",
            " 0   DateTime        8784 non-null   object \n",
            " 1   Temperature     8784 non-null   float64\n",
            " 2   Humidity        8784 non-null   int64  \n",
            " 3   Wind_Speed      8784 non-null   float64\n",
            " 4   Wind_Direction  8784 non-null   float64\n",
            " 5   NO2_Location_A  8664 non-null   float64\n",
            " 6   NO2_Location_B  8204 non-null   float64\n",
            " 7   NO2_Location_C  8652 non-null   float64\n",
            "dtypes: float64(6), int64(1), object(1)\n",
            "memory usage: 549.1+ KB\n",
            "None\n",
            "Tipo de datos actualizado para columna \"DateTime\":\n",
            "\n",
            "<class 'pandas.core.frame.DataFrame'>\n",
            "RangeIndex: 8784 entries, 0 to 8783\n",
            "Data columns (total 8 columns):\n",
            " #   Column          Non-Null Count  Dtype         \n",
            "---  ------          --------------  -----         \n",
            " 0   DateTime        8784 non-null   datetime64[ns]\n",
            " 1   Temperature     8784 non-null   float64       \n",
            " 2   Humidity        8784 non-null   int64         \n",
            " 3   Wind_Speed      8784 non-null   float64       \n",
            " 4   Wind_Direction  8784 non-null   float64       \n",
            " 5   NO2_Location_A  8664 non-null   float64       \n",
            " 6   NO2_Location_B  8204 non-null   float64       \n",
            " 7   NO2_Location_C  8652 non-null   float64       \n",
            "dtypes: datetime64[ns](1), float64(6), int64(1)\n",
            "memory usage: 549.1 KB\n",
            "None\n",
            "\n",
            "TOP 3 en dataset:\n",
            "\n",
            "             DateTime  Temperature  Humidity  Wind_Speed  Wind_Direction  \\\n",
            "0 2020-01-01 00:00:00     2.180529        87    1.484318        75.96376   \n",
            "1 2020-01-01 01:00:00     1.490529        89    2.741678       113.19859   \n",
            "2 2020-01-01 02:00:00     1.690529        85    3.563818       135.00000   \n",
            "\n",
            "   NO2_Location_A  NO2_Location_B  NO2_Location_C  \n",
            "0           39.23           52.88           62.37  \n",
            "1           38.30           44.95           52.53  \n",
            "2             NaN           48.40           54.80  \n"
          ]
        }
      ]
    },
    {
      "cell_type": "markdown",
      "source": [
        "# **Ejercicio 02: Extraer componentes de fecha y tiempo**\n"
      ],
      "metadata": {
        "id": "kBbl0GUBG8GH"
      }
    },
    {
      "cell_type": "code",
      "source": [
        "### Extraccion de elementos en columna 'DateTime'\n",
        "\n",
        "df['Year'] = df['DateTime'].dt.year\n",
        "df['Month'] = df['DateTime'].dt.month\n",
        "df['Day'] = df['DateTime'].dt.day\n",
        "df['Hour'] = df['DateTime'].dt.hour\n",
        "\n",
        "### Dataframe actualizado\n",
        "print(df.head(3))"
      ],
      "metadata": {
        "colab": {
          "base_uri": "https://localhost:8080/"
        },
        "collapsed": true,
        "id": "73ahr3WjPqU9",
        "outputId": "16683301-915b-4bd4-be42-48244e88d563"
      },
      "execution_count": 106,
      "outputs": [
        {
          "output_type": "stream",
          "name": "stdout",
          "text": [
            "             DateTime  Temperature  Humidity  Wind_Speed  Wind_Direction  \\\n",
            "0 2020-01-01 00:00:00     2.180529        87    1.484318        75.96376   \n",
            "1 2020-01-01 01:00:00     1.490529        89    2.741678       113.19859   \n",
            "2 2020-01-01 02:00:00     1.690529        85    3.563818       135.00000   \n",
            "\n",
            "   NO2_Location_A  NO2_Location_B  NO2_Location_C  Year  Month  Day  Hour  \n",
            "0           39.23           52.88           62.37  2020      1    1     0  \n",
            "1           38.30           44.95           52.53  2020      1    1     1  \n",
            "2             NaN           48.40           54.80  2020      1    1     2  \n"
          ]
        }
      ]
    },
    {
      "cell_type": "markdown",
      "source": [
        "# **Ejercicio 03: Aritmética - Suma de Intervalos (timedelta)**\n"
      ],
      "metadata": {
        "id": "4qz4g_JSHS_E"
      }
    },
    {
      "cell_type": "code",
      "source": [
        "### Suma 10 días, 7 horas y 15 minutos a cada elemento de la columna 'DateTime'\n",
        "\n",
        "df['new_Datetime'] = df['DateTime'] + pd.Timedelta(days= 10, hours= 7, minutes= 15)\n",
        "\n",
        "print(df[['DateTime','new_Datetime']].head(3))"
      ],
      "metadata": {
        "colab": {
          "base_uri": "https://localhost:8080/"
        },
        "id": "6YTDoux7UQoS",
        "outputId": "dfdf6c53-b2a2-41bd-b310-df3c719be157"
      },
      "execution_count": 107,
      "outputs": [
        {
          "output_type": "stream",
          "name": "stdout",
          "text": [
            "             DateTime        new_Datetime\n",
            "0 2020-01-01 00:00:00 2020-01-11 07:15:00\n",
            "1 2020-01-01 01:00:00 2020-01-11 08:15:00\n",
            "2 2020-01-01 02:00:00 2020-01-11 09:15:00\n"
          ]
        }
      ]
    },
    {
      "cell_type": "markdown",
      "source": [
        "# **Ejercicio 04: Timestamp**\n",
        "\n",
        "Convierte la columna 'DateTime' la cual tiene un formato de fecha legible a a timestamp Unix. Guarda el resultado en una nueva columna\n",
        "Imprime las primeras tres filas de  la columna 'DateTime' y la columna que representa dicha fecha en timestamp Unix\n",
        ""
      ],
      "metadata": {
        "id": "6cuzV4GVHYGH"
      }
    },
    {
      "cell_type": "code",
      "source": [
        "### Conversion a tiempo Unix\n",
        "\n",
        "a = df['DateTime'] - time_utc\n",
        "df['DateTime_unix'] = a.dt.total_seconds()\n",
        "\n",
        "print(df.head(3))\n"
      ],
      "metadata": {
        "colab": {
          "base_uri": "https://localhost:8080/"
        },
        "id": "khonbY1CT5i-",
        "outputId": "3cd20108-5c10-4f7a-f92d-870eef707d36"
      },
      "execution_count": 108,
      "outputs": [
        {
          "output_type": "stream",
          "name": "stdout",
          "text": [
            "             DateTime  Temperature  Humidity  Wind_Speed  Wind_Direction  \\\n",
            "0 2020-01-01 00:00:00     2.180529        87    1.484318        75.96376   \n",
            "1 2020-01-01 01:00:00     1.490529        89    2.741678       113.19859   \n",
            "2 2020-01-01 02:00:00     1.690529        85    3.563818       135.00000   \n",
            "\n",
            "   NO2_Location_A  NO2_Location_B  NO2_Location_C  Year  Month  Day  Hour  \\\n",
            "0           39.23           52.88           62.37  2020      1    1     0   \n",
            "1           38.30           44.95           52.53  2020      1    1     1   \n",
            "2             NaN           48.40           54.80  2020      1    1     2   \n",
            "\n",
            "         new_Datetime  DateTime_unix  \n",
            "0 2020-01-11 07:15:00   1.577837e+09  \n",
            "1 2020-01-11 08:15:00   1.577840e+09  \n",
            "2 2020-01-11 09:15:00   1.577844e+09  \n"
          ]
        }
      ]
    },
    {
      "cell_type": "code",
      "source": [
        "print(df.info())"
      ],
      "metadata": {
        "collapsed": true,
        "colab": {
          "base_uri": "https://localhost:8080/"
        },
        "id": "7IlRyeRtHQkN",
        "outputId": "f000f4f5-338e-40eb-f289-f4e47760d921"
      },
      "execution_count": 109,
      "outputs": [
        {
          "output_type": "stream",
          "name": "stdout",
          "text": [
            "<class 'pandas.core.frame.DataFrame'>\n",
            "RangeIndex: 8784 entries, 0 to 8783\n",
            "Data columns (total 14 columns):\n",
            " #   Column          Non-Null Count  Dtype         \n",
            "---  ------          --------------  -----         \n",
            " 0   DateTime        8784 non-null   datetime64[ns]\n",
            " 1   Temperature     8784 non-null   float64       \n",
            " 2   Humidity        8784 non-null   int64         \n",
            " 3   Wind_Speed      8784 non-null   float64       \n",
            " 4   Wind_Direction  8784 non-null   float64       \n",
            " 5   NO2_Location_A  8664 non-null   float64       \n",
            " 6   NO2_Location_B  8204 non-null   float64       \n",
            " 7   NO2_Location_C  8652 non-null   float64       \n",
            " 8   Year            8784 non-null   int32         \n",
            " 9   Month           8784 non-null   int32         \n",
            " 10  Day             8784 non-null   int32         \n",
            " 11  Hour            8784 non-null   int32         \n",
            " 12  new_Datetime    8784 non-null   datetime64[ns]\n",
            " 13  DateTime_unix   8784 non-null   float64       \n",
            "dtypes: datetime64[ns](2), float64(7), int32(4), int64(1)\n",
            "memory usage: 823.6 KB\n",
            "None\n"
          ]
        }
      ]
    },
    {
      "cell_type": "markdown",
      "source": [
        "# **Ejercicio 05: Filtrado de Fechas**\n",
        "\n"
      ],
      "metadata": {
        "id": "j4s9ybhLHcjG"
      }
    },
    {
      "cell_type": "code",
      "source": [
        "### Filtrar df por fechas mayores a'2020-11-01'\n",
        "\n",
        "print(df[df['DateTime'] > '2020-11-01'])"
      ],
      "metadata": {
        "colab": {
          "base_uri": "https://localhost:8080/"
        },
        "id": "_L2XN95YMe61",
        "outputId": "a3ed8575-c915-4b15-cf9f-c9d36b499180"
      },
      "execution_count": 112,
      "outputs": [
        {
          "output_type": "stream",
          "name": "stdout",
          "text": [
            "                DateTime  Temperature  Humidity  Wind_Speed  Wind_Direction  \\\n",
            "7321 2020-11-01 01:00:00    13.620529        58    6.638072       130.60129   \n",
            "7322 2020-11-01 02:00:00    13.980529        40    6.618519       157.61987   \n",
            "7323 2020-11-01 03:00:00    13.010529        43    8.209263       164.74487   \n",
            "7324 2020-11-01 04:00:00    12.190529        51    7.568566       154.65382   \n",
            "7325 2020-11-01 05:00:00    12.510529        59    7.594208       148.57043   \n",
            "...                  ...          ...       ...         ...             ...   \n",
            "8779 2020-12-31 19:00:00     4.920528        72    4.553680       251.56506   \n",
            "8780 2020-12-31 20:00:00     4.990529        74    3.259939       186.34020   \n",
            "8781 2020-12-31 21:00:00     4.360529        84   10.587917       252.18112   \n",
            "8782 2020-12-31 22:00:00     3.820528        88    8.435069       219.80557   \n",
            "8783 2020-12-31 23:00:00     3.170529        89    6.792466       212.00539   \n",
            "\n",
            "      NO2_Location_A  NO2_Location_B  NO2_Location_C  Year  Month  Day  Hour  \\\n",
            "7321           17.50           23.88           44.07  2020     11    1     1   \n",
            "7322           13.38           18.92           35.80  2020     11    1     2   \n",
            "7323           11.95           13.95           30.15  2020     11    1     3   \n",
            "7324           10.10           14.35           31.45  2020     11    1     4   \n",
            "7325           10.30           14.42           32.55  2020     11    1     5   \n",
            "...              ...             ...             ...   ...    ...  ...   ...   \n",
            "8779           53.44           32.65           66.82  2020     12   31    19   \n",
            "8780           49.80           34.03           67.31  2020     12   31    20   \n",
            "8781           43.32           25.55           59.33  2020     12   31    21   \n",
            "8782           39.88           19.90           43.70  2020     12   31    22   \n",
            "8783           39.04           30.33           46.87  2020     12   31    23   \n",
            "\n",
            "            new_Datetime  DateTime_unix  \n",
            "7321 2020-11-11 08:15:00   1.604192e+09  \n",
            "7322 2020-11-11 09:15:00   1.604196e+09  \n",
            "7323 2020-11-11 10:15:00   1.604200e+09  \n",
            "7324 2020-11-11 11:15:00   1.604203e+09  \n",
            "7325 2020-11-11 12:15:00   1.604207e+09  \n",
            "...                  ...            ...  \n",
            "8779 2021-01-11 02:15:00   1.609441e+09  \n",
            "8780 2021-01-11 03:15:00   1.609445e+09  \n",
            "8781 2021-01-11 04:15:00   1.609448e+09  \n",
            "8782 2021-01-11 05:15:00   1.609452e+09  \n",
            "8783 2021-01-11 06:15:00   1.609456e+09  \n",
            "\n",
            "[1463 rows x 14 columns]\n"
          ]
        }
      ]
    }
  ]
}