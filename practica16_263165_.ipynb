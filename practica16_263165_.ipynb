{
  "nbformat": 4,
  "nbformat_minor": 0,
  "metadata": {
    "colab": {
      "provenance": [],
      "mount_file_id": "1Ns9InNfjgahPmpyyEMdddVAN6Iw3ME5c",
      "authorship_tag": "ABX9TyMiohuH277+IDiWqkLA6kGr",
      "include_colab_link": true
    },
    "kernelspec": {
      "name": "python3",
      "display_name": "Python 3"
    },
    "language_info": {
      "name": "python"
    }
  },
  "cells": [
    {
      "cell_type": "markdown",
      "metadata": {
        "id": "view-in-github",
        "colab_type": "text"
      },
      "source": [
        "<a href=\"https://colab.research.google.com/github/LailaBulh/Programacion---Claas-Files/blob/main/practica16_263165_.ipynb\" target=\"_parent\"><img src=\"https://colab.research.google.com/assets/colab-badge.svg\" alt=\"Open In Colab\"/></a>"
      ]
    },
    {
      "cell_type": "markdown",
      "source": [
        "# **Práctica #16: Datos Duplicados**\n",
        "\n",
        "link Github: [Practica16_LB](https://github.com/LailaBulh/Programacion---Claas-Files/blob/main/practica16_263165_.ipynb)"
      ],
      "metadata": {
        "id": "UPjRkxdHmBUO"
      }
    },
    {
      "cell_type": "markdown",
      "source": [
        "# **Ejercicio 01. Datos Perdidos.**\n"
      ],
      "metadata": {
        "id": "L3dG1KKsnM6_"
      }
    },
    {
      "cell_type": "code",
      "source": [
        "import pandas as pd\n"
      ],
      "metadata": {
        "id": "US0s30ECPCAC"
      },
      "execution_count": 82,
      "outputs": []
    },
    {
      "cell_type": "code",
      "source": [
        "df = pd.read_csv('/content/drive/MyDrive/Programacion_ClassFiles/dirtydata.csv')\n",
        "\n",
        "print(df.info())\n",
        "\n",
        "\n",
        "completeness = df.isnull().sum()\n",
        "print('Los datos perdidos por columna son:\\n', completeness)\n",
        "\n",
        "### Calculo de media para la columna Calories\n",
        "calories_mean = df['Calories'].mean()\n",
        "print('\\nEl valor medio de la columna \"Calories\" es:\\n', calories_mean)\n",
        "\n",
        "\n",
        "df['Calories'].fillna(calories_mean, inplace=True)\n",
        "\n",
        "calories_mean = df['Calories'].mean()\n",
        "print('\\nEl valor medio de la columna \"Calories\" es:\\n', calories_mean)\n"
      ],
      "metadata": {
        "colab": {
          "base_uri": "https://localhost:8080/"
        },
        "collapsed": true,
        "id": "qZGMqKTfP8uH",
        "outputId": "eec2281f-e802-4807-f64b-ad27954235dd"
      },
      "execution_count": 83,
      "outputs": [
        {
          "output_type": "stream",
          "name": "stdout",
          "text": [
            "<class 'pandas.core.frame.DataFrame'>\n",
            "RangeIndex: 32 entries, 0 to 31\n",
            "Data columns (total 5 columns):\n",
            " #   Column    Non-Null Count  Dtype  \n",
            "---  ------    --------------  -----  \n",
            " 0   Duration  32 non-null     int64  \n",
            " 1   Date      31 non-null     object \n",
            " 2   Pulse     32 non-null     int64  \n",
            " 3   Maxpulse  32 non-null     int64  \n",
            " 4   Calories  30 non-null     float64\n",
            "dtypes: float64(1), int64(3), object(1)\n",
            "memory usage: 1.4+ KB\n",
            "None\n",
            "Los datos perdidos por columna son:\n",
            " Duration    0\n",
            "Date        1\n",
            "Pulse       0\n",
            "Maxpulse    0\n",
            "Calories    2\n",
            "dtype: int64\n",
            "\n",
            "El valor medio de la columna \"Calories\" es:\n",
            " 304.68\n",
            "\n",
            "El valor medio de la columna \"Calories\" es:\n",
            " 304.67999999999995\n"
          ]
        },
        {
          "output_type": "stream",
          "name": "stderr",
          "text": [
            "/tmp/ipython-input-2744766469.py:14: FutureWarning: A value is trying to be set on a copy of a DataFrame or Series through chained assignment using an inplace method.\n",
            "The behavior will change in pandas 3.0. This inplace method will never work because the intermediate object on which we are setting values always behaves as a copy.\n",
            "\n",
            "For example, when doing 'df[col].method(value, inplace=True)', try using 'df.method({col: value}, inplace=True)' or df[col] = df[col].method(value) instead, to perform the operation inplace on the original object.\n",
            "\n",
            "\n",
            "  df['Calories'].fillna(calories_mean, inplace=True)\n"
          ]
        }
      ]
    },
    {
      "cell_type": "markdown",
      "source": [
        "# **Ejercicio 02. Duplicidad Parcial Una columna: Contar y Filtrar los registros duplicados en Duration**\n"
      ],
      "metadata": {
        "id": "oP5tVbDAnQLG"
      }
    },
    {
      "cell_type": "code",
      "source": [
        "df = pd.read_csv('/content/drive/MyDrive/Programacion_ClassFiles/dirtydata.csv')\n",
        "\n",
        "print(df.info())\n",
        "\n",
        "df_duplicates = df['Duration'].duplicated().sum()\n",
        "print('\\nEl numero de duplicados en la columna \"Duration\" es:\\n',df_duplicates)\n",
        "\n",
        "print('\\nLa frecuencia de valores en a columna \"Duration\" es:\\n',df['Duration'].value_counts())\n",
        "\n",
        "print('\\n', df.drop_duplicates(subset=['Duration'], keep= 'first'))"
      ],
      "metadata": {
        "colab": {
          "base_uri": "https://localhost:8080/"
        },
        "collapsed": true,
        "id": "fX6pWh6_Zd1c",
        "outputId": "078862bf-a814-4b17-dbdd-ba226d7713d7"
      },
      "execution_count": 84,
      "outputs": [
        {
          "output_type": "stream",
          "name": "stdout",
          "text": [
            "<class 'pandas.core.frame.DataFrame'>\n",
            "RangeIndex: 32 entries, 0 to 31\n",
            "Data columns (total 5 columns):\n",
            " #   Column    Non-Null Count  Dtype  \n",
            "---  ------    --------------  -----  \n",
            " 0   Duration  32 non-null     int64  \n",
            " 1   Date      31 non-null     object \n",
            " 2   Pulse     32 non-null     int64  \n",
            " 3   Maxpulse  32 non-null     int64  \n",
            " 4   Calories  30 non-null     float64\n",
            "dtypes: float64(1), int64(3), object(1)\n",
            "memory usage: 1.4+ KB\n",
            "None\n",
            "\n",
            "El numero de duplicados en la columna \"Duration\" es:\n",
            " 28\n",
            "\n",
            "La frecuencia de valores en a columna \"Duration\" es:\n",
            " Duration\n",
            "60     24\n",
            "45      6\n",
            "450     1\n",
            "30      1\n",
            "Name: count, dtype: int64\n",
            "\n",
            "    Duration          Date  Pulse  Maxpulse  Calories\n",
            "0        60  '2020/12/01'    110       130     409.1\n",
            "3        45  '2020/12/04'    109       175     282.4\n",
            "7       450  '2020/12/08'    104       134     253.3\n",
            "8        30  '2020/12/09'    109       133     195.1\n"
          ]
        }
      ]
    },
    {
      "cell_type": "markdown",
      "source": [
        "# **Ejercicio 03 Duplicidad Parcial Dos columnaa: Contar y Filtrar los registros duplicados en Pulse y MaxPulse**\n"
      ],
      "metadata": {
        "id": "bXIOrT15R_o3"
      }
    },
    {
      "cell_type": "code",
      "source": [
        "df = pd.read_csv('/content/drive/MyDrive/Programacion_ClassFiles/dirtydata.csv')\n",
        "\n",
        "print(df.head(3))\n",
        "\n",
        "### Cuenta de duplicados\n",
        "dup_count = df[['Pulse','Maxpulse']].duplicated().sum()\n",
        "\n",
        "print('\\nEl numero de duplicados en la columna \"Pulse\" es:\\n',dup_count)\n",
        "\n",
        "### Cantidad de registros por valor\n",
        "col_counts = df[['Pulse','Maxpulse']].value_counts()\n",
        "\n",
        "print('\\nLa frecuencia de valores en la columna \"Pulse\" y \"Maxpulse\"  es:\\n', col_counts)\n",
        "\n",
        "\n",
        "### Filtrar datos y obtener registros cuando keep es 'last'\n",
        "print(df.drop_duplicates(subset=['Pulse','Maxpulse'], keep= 'last'))"
      ],
      "metadata": {
        "colab": {
          "base_uri": "https://localhost:8080/"
        },
        "collapsed": true,
        "id": "qzOVGZcyDMGH",
        "outputId": "7b6bac2c-5e31-43a5-b808-5c356cb5ad5b"
      },
      "execution_count": 85,
      "outputs": [
        {
          "output_type": "stream",
          "name": "stdout",
          "text": [
            "   Duration          Date  Pulse  Maxpulse  Calories\n",
            "0        60  '2020/12/01'    110       130     409.1\n",
            "1        60  '2020/12/02'    117       145     479.0\n",
            "2        60  '2020/12/03'    103       135     340.0\n",
            "\n",
            "El numero de duplicados en la columna \"Pulse\" es:\n",
            " 3\n",
            "\n",
            "La frecuencia de valores en la columna \"Pulse\" y \"Maxpulse\"  es:\n",
            " Pulse  Maxpulse\n",
            "100    120         4\n",
            "92     115         1\n",
            "       118         1\n",
            "97     125         1\n",
            "90     112         1\n",
            "98     120         1\n",
            "       123         1\n",
            "       124         1\n",
            "100    119         1\n",
            "       132         1\n",
            "102    126         1\n",
            "       127         1\n",
            "       129         1\n",
            "103    123         1\n",
            "       132         1\n",
            "       135         1\n",
            "       147         1\n",
            "104    132         1\n",
            "       134         1\n",
            "105    132         1\n",
            "106    128         1\n",
            "108    131         1\n",
            "109    133         1\n",
            "       175         1\n",
            "110    130         1\n",
            "       136         1\n",
            "117    145         1\n",
            "       148         1\n",
            "130    101         1\n",
            "Name: count, dtype: int64\n",
            "    Duration          Date  Pulse  Maxpulse  Calories\n",
            "0         60  '2020/12/01'    110       130     409.1\n",
            "1         60  '2020/12/02'    117       145     479.0\n",
            "2         60  '2020/12/03'    103       135     340.0\n",
            "3         45  '2020/12/04'    109       175     282.4\n",
            "4         45  '2020/12/05'    117       148     406.0\n",
            "5         60  '2020/12/06'    102       127     300.0\n",
            "6         60  '2020/12/07'    110       136     374.0\n",
            "7        450  '2020/12/08'    104       134     253.3\n",
            "8         30  '2020/12/09'    109       133     195.1\n",
            "9         60  '2020/12/10'     98       124     269.0\n",
            "10        60  '2020/12/11'    103       147     329.3\n",
            "13        60  '2020/12/13'    106       128     345.3\n",
            "14        60  '2020/12/14'    104       132     379.3\n",
            "15        60  '2020/12/15'     98       123     275.0\n",
            "16        60  '2020/12/16'     98       120     215.2\n",
            "18        45  '2020/12/18'     90       112       NaN\n",
            "19        60  '2020/12/19'    103       123     323.0\n",
            "20        45  '2020/12/20'     97       125     243.0\n",
            "21        60  '2020/12/21'    108       131     364.2\n",
            "22        45           NaN    100       119     282.0\n",
            "23        60  '2020/12/23'    130       101     300.0\n",
            "24        45  '2020/12/24'    105       132     246.0\n",
            "25        60  '2020/12/25'    102       126     334.5\n",
            "26        60      20201226    100       120     250.0\n",
            "27        60  '2020/12/27'     92       118     241.0\n",
            "28        60  '2020/12/28'    103       132       NaN\n",
            "29        60  '2020/12/29'    100       132     280.0\n",
            "30        60  '2020/12/30'    102       129     380.3\n",
            "31        60  '2020/12/31'     92       115     243.0\n"
          ]
        }
      ]
    },
    {
      "cell_type": "markdown",
      "source": [
        "# **Ejercicio 04 Duplicidad Total o Exacta: Contar y Filtrar los registros duplicados**\n",
        "\n"
      ],
      "metadata": {
        "id": "B1zD6S6mR_iP"
      }
    },
    {
      "cell_type": "code",
      "source": [
        "df = pd.read_csv('/content/drive/MyDrive/Programacion_ClassFiles/dirtydata.csv')\n",
        "\n",
        "#print(df.head(3))\n",
        "\n",
        "### Cantidad de registros duplicados exactos\n",
        "duplicados = df.value_counts()\n",
        "\n",
        "print(df.value_counts())\n",
        "\n",
        "### Cantidad de registros con duplicidad exacta\n",
        "df_dup_count = df.duplicated().sum()\n",
        "print('\\nEl numero de duplicados en el dataframe es:\\n', df_dup_count)\n",
        "\n",
        "### Filtrar datos y registros cuando keep = 'last'\n",
        "remove_duplicados = df.drop_duplicates(keep= 'last')\n",
        "\n",
        "print(remove_duplicados)\n"
      ],
      "metadata": {
        "colab": {
          "base_uri": "https://localhost:8080/"
        },
        "collapsed": true,
        "id": "eT6jj5eOI_6v",
        "outputId": "49135afa-fa39-42ef-8ef3-087361c1c379"
      },
      "execution_count": 86,
      "outputs": [
        {
          "output_type": "stream",
          "name": "stdout",
          "text": [
            "Duration  Date          Pulse  Maxpulse  Calories\n",
            "60        '2020/12/12'  100    120       250.7       2\n",
            "30        '2020/12/09'  109    133       195.1       1\n",
            "45        '2020/12/05'  117    148       406.0       1\n",
            "          '2020/12/04'  109    175       282.4       1\n",
            "          '2020/12/24'  105    132       246.0       1\n",
            "60        '2020/12/01'  110    130       409.1       1\n",
            "          '2020/12/02'  117    145       479.0       1\n",
            "          '2020/12/03'  103    135       340.0       1\n",
            "          '2020/12/06'  102    127       300.0       1\n",
            "          '2020/12/07'  110    136       374.0       1\n",
            "          '2020/12/10'  98     124       269.0       1\n",
            "45        '2020/12/20'  97     125       243.0       1\n",
            "60        '2020/12/11'  103    147       329.3       1\n",
            "          '2020/12/13'  106    128       345.3       1\n",
            "          '2020/12/14'  104    132       379.3       1\n",
            "          '2020/12/15'  98     123       275.0       1\n",
            "          '2020/12/16'  98     120       215.2       1\n",
            "          '2020/12/17'  100    120       300.0       1\n",
            "          '2020/12/19'  103    123       323.0       1\n",
            "          '2020/12/21'  108    131       364.2       1\n",
            "          '2020/12/23'  130    101       300.0       1\n",
            "          '2020/12/25'  102    126       334.5       1\n",
            "          '2020/12/27'  92     118       241.0       1\n",
            "          '2020/12/29'  100    132       280.0       1\n",
            "          '2020/12/30'  102    129       380.3       1\n",
            "          '2020/12/31'  92     115       243.0       1\n",
            "          20201226      100    120       250.0       1\n",
            "450       '2020/12/08'  104    134       253.3       1\n",
            "Name: count, dtype: int64\n",
            "\n",
            "El numero de duplicados en el dataframe es:\n",
            " 1\n",
            "    Duration          Date  Pulse  Maxpulse  Calories\n",
            "0         60  '2020/12/01'    110       130     409.1\n",
            "1         60  '2020/12/02'    117       145     479.0\n",
            "2         60  '2020/12/03'    103       135     340.0\n",
            "3         45  '2020/12/04'    109       175     282.4\n",
            "4         45  '2020/12/05'    117       148     406.0\n",
            "5         60  '2020/12/06'    102       127     300.0\n",
            "6         60  '2020/12/07'    110       136     374.0\n",
            "7        450  '2020/12/08'    104       134     253.3\n",
            "8         30  '2020/12/09'    109       133     195.1\n",
            "9         60  '2020/12/10'     98       124     269.0\n",
            "10        60  '2020/12/11'    103       147     329.3\n",
            "12        60  '2020/12/12'    100       120     250.7\n",
            "13        60  '2020/12/13'    106       128     345.3\n",
            "14        60  '2020/12/14'    104       132     379.3\n",
            "15        60  '2020/12/15'     98       123     275.0\n",
            "16        60  '2020/12/16'     98       120     215.2\n",
            "17        60  '2020/12/17'    100       120     300.0\n",
            "18        45  '2020/12/18'     90       112       NaN\n",
            "19        60  '2020/12/19'    103       123     323.0\n",
            "20        45  '2020/12/20'     97       125     243.0\n",
            "21        60  '2020/12/21'    108       131     364.2\n",
            "22        45           NaN    100       119     282.0\n",
            "23        60  '2020/12/23'    130       101     300.0\n",
            "24        45  '2020/12/24'    105       132     246.0\n",
            "25        60  '2020/12/25'    102       126     334.5\n",
            "26        60      20201226    100       120     250.0\n",
            "27        60  '2020/12/27'     92       118     241.0\n",
            "28        60  '2020/12/28'    103       132       NaN\n",
            "29        60  '2020/12/29'    100       132     280.0\n",
            "30        60  '2020/12/30'    102       129     380.3\n",
            "31        60  '2020/12/31'     92       115     243.0\n"
          ]
        }
      ]
    },
    {
      "cell_type": "markdown",
      "source": [
        "# **Ejercicio 05: Cálculo de la media con duplicados y sin duplicados**\n",
        "\n"
      ],
      "metadata": {
        "id": "RTiP4TKOR_aO"
      }
    },
    {
      "cell_type": "code",
      "source": [
        "df = pd.read_csv('/content/drive/MyDrive/Programacion_ClassFiles/dirtydata.csv')\n",
        "\n",
        "print(df.head(3))\n",
        "\n",
        "### Calculo de media en Pulse y Maxpulse\n",
        "pulse_mean = df['Pulse'].mean()\n",
        "maxpulse_mean = df['Maxpulse'].mean()\n",
        "\n",
        "print(f'\\nLa media de la columna \"Pulse\" es: {pulse_mean} y el valor medio de la columna \"Maxpulse\" es: {maxpulse_mean}')\n",
        "\n",
        "### Valores duplicados en las columnas Pulse y Maxpulse\n",
        "df_no_duplicados = df.drop_duplicates(subset=['Pulse','Maxpulse'], keep= 'last')\n",
        "print('\\n',df_no_duplicados)\n",
        "\n",
        "### Calculo de media en df sin duplicados\n",
        "pulse_mean = df_no_duplicados['Pulse'].mean()\n",
        "maxpulse_mean = df_no_duplicados['Maxpulse'].mean()\n",
        "\n",
        "print(f'\\nLa media de la columna \"Pulse\" es: {pulse_mean} y el valor medio de la columna \"Maxpulse\" es: {maxpulse_mean}')\n"
      ],
      "metadata": {
        "colab": {
          "base_uri": "https://localhost:8080/"
        },
        "id": "JgLjYHuJIo1e",
        "outputId": "94a7c79a-5d82-485a-880a-a59af3e1f280"
      },
      "execution_count": 87,
      "outputs": [
        {
          "output_type": "stream",
          "name": "stdout",
          "text": [
            "   Duration          Date  Pulse  Maxpulse  Calories\n",
            "0        60  '2020/12/01'    110       130     409.1\n",
            "1        60  '2020/12/02'    117       145     479.0\n",
            "2        60  '2020/12/03'    103       135     340.0\n",
            "\n",
            "La media de la columna \"Pulse\" es: 103.5 y el valor medio de la columna \"Maxpulse\" es: 128.5\n",
            "\n",
            "     Duration          Date  Pulse  Maxpulse  Calories\n",
            "0         60  '2020/12/01'    110       130     409.1\n",
            "1         60  '2020/12/02'    117       145     479.0\n",
            "2         60  '2020/12/03'    103       135     340.0\n",
            "3         45  '2020/12/04'    109       175     282.4\n",
            "4         45  '2020/12/05'    117       148     406.0\n",
            "5         60  '2020/12/06'    102       127     300.0\n",
            "6         60  '2020/12/07'    110       136     374.0\n",
            "7        450  '2020/12/08'    104       134     253.3\n",
            "8         30  '2020/12/09'    109       133     195.1\n",
            "9         60  '2020/12/10'     98       124     269.0\n",
            "10        60  '2020/12/11'    103       147     329.3\n",
            "13        60  '2020/12/13'    106       128     345.3\n",
            "14        60  '2020/12/14'    104       132     379.3\n",
            "15        60  '2020/12/15'     98       123     275.0\n",
            "16        60  '2020/12/16'     98       120     215.2\n",
            "18        45  '2020/12/18'     90       112       NaN\n",
            "19        60  '2020/12/19'    103       123     323.0\n",
            "20        45  '2020/12/20'     97       125     243.0\n",
            "21        60  '2020/12/21'    108       131     364.2\n",
            "22        45           NaN    100       119     282.0\n",
            "23        60  '2020/12/23'    130       101     300.0\n",
            "24        45  '2020/12/24'    105       132     246.0\n",
            "25        60  '2020/12/25'    102       126     334.5\n",
            "26        60      20201226    100       120     250.0\n",
            "27        60  '2020/12/27'     92       118     241.0\n",
            "28        60  '2020/12/28'    103       132       NaN\n",
            "29        60  '2020/12/29'    100       132     280.0\n",
            "30        60  '2020/12/30'    102       129     380.3\n",
            "31        60  '2020/12/31'     92       115     243.0\n",
            "\n",
            "La media de la columna \"Pulse\" es: 103.86206896551724 y el valor medio de la columna \"Maxpulse\" es: 129.3793103448276\n"
          ]
        }
      ]
    }
  ]
}