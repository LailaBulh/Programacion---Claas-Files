{
  "nbformat": 4,
  "nbformat_minor": 0,
  "metadata": {
    "colab": {
      "provenance": [],
      "mount_file_id": "1szOgJ4c8SF5mw7_ls9xJAu7jFkF8cJn4",
      "authorship_tag": "ABX9TyOVtey68L72VhrlkY/dyKeP",
      "include_colab_link": true
    },
    "kernelspec": {
      "name": "python3",
      "display_name": "Python 3"
    },
    "language_info": {
      "name": "python"
    }
  },
  "cells": [
    {
      "cell_type": "markdown",
      "metadata": {
        "id": "view-in-github",
        "colab_type": "text"
      },
      "source": [
        "<a href=\"https://colab.research.google.com/github/LailaBulh/Programacion---Claas-Files/blob/main/Practica1_263166.ipynb\" target=\"_parent\"><img src=\"https://colab.research.google.com/assets/colab-badge.svg\" alt=\"Open In Colab\"/></a>"
      ]
    },
    {
      "cell_type": "code",
      "source": [
        "### Nombre : Laila Montserrat Bulhosen Ramos\n",
        "### Matricula: 263166\n",
        "### Materia: Programacion para analitica prescriptiva y descriptiva\n",
        "\n",
        "### Drive connection\n",
        "\n",
        "from google.colab import drive\n",
        "\n",
        "drive.mount('/content/drive')\n"
      ],
      "metadata": {
        "colab": {
          "base_uri": "https://localhost:8080/"
        },
        "id": "S_SfDYe8V6m2",
        "outputId": "b972e6b3-a1bd-4436-8f76-fae73c534486"
      },
      "execution_count": 25,
      "outputs": [
        {
          "output_type": "stream",
          "name": "stdout",
          "text": [
            "Drive already mounted at /content/drive; to attempt to forcibly remount, call drive.mount(\"/content/drive\", force_remount=True).\n"
          ]
        }
      ]
    },
    {
      "cell_type": "code",
      "execution_count": 26,
      "metadata": {
        "id": "QBhrCJBBNGNh"
      },
      "outputs": [],
      "source": [
        "import pandas as pd\n",
        "import numpy as np\n"
      ]
    },
    {
      "cell_type": "markdown",
      "source": [
        "El código debe leer cada línea del archivo y buscar la cadena X-DSPAM-Confidence. Cuando se encuentre, debe extraer el número que sigue a esa cadena."
      ],
      "metadata": {
        "id": "-snpSIh1hzt6"
      }
    },
    {
      "cell_type": "markdown",
      "source": [
        "Después de extraer las mediciones, tu código debe calcular:\n",
        "La cantidad de datos encontrados.\n",
        "La sumatoria de todos los datos extraídos.\n",
        "El promedio de los datos.\n",
        "La varianza de los datos."
      ],
      "metadata": {
        "id": "OYu5GBq40-oL"
      }
    },
    {
      "cell_type": "code",
      "source": [
        "df = open('/content/drive/MyDrive/Programacion_ClassFiles/mbox.txt', 'r')\n",
        "\n",
        "count = 0\n",
        "codeList = []\n",
        "\n",
        "for linea in df:\n",
        "    linea = linea.rstrip()\n",
        "    if linea.find('X-DSPAM-Confidence') == -1:\n",
        "      continue\n",
        "    count += 1\n",
        "    codeList.append(float(linea.rstrip().partition(': ')[2]))\n",
        "  #  print(linea)\n",
        "\n",
        "\n",
        "\n",
        "### Valores encontrados\n",
        "print(f'La cantidad de valores encontrados fue: {count}')\n",
        "\n",
        "\n",
        "### Sumatoria de los datos extraidos\n",
        "\n",
        "#print(codeList)\n",
        "total = 0\n",
        "\n",
        "for value in codeList:\n",
        "  total += value\n",
        "\n",
        "print(f'La sumatoria de los datos extraidos es: {total}')\n",
        "\n",
        "\n",
        "### Promedio de los datos\n",
        "\n",
        "avg = np.mean(codeList)\n",
        "\n",
        "print(f'El valor promedio de los datos es: {avg}')\n",
        "\n",
        "\n",
        "### Varianza de datos\n",
        "\n",
        "var = np.var(codeList)\n",
        "\n",
        "print(f'La varianza de estos datos es: {var}')\n"
      ],
      "metadata": {
        "colab": {
          "base_uri": "https://localhost:8080/"
        },
        "id": "-H131VWvFX7-",
        "outputId": "6d6dda02-e5e8-4f8f-d828-eaa35546a366",
        "collapsed": true
      },
      "execution_count": 33,
      "outputs": [
        {
          "output_type": "stream",
          "name": "stdout",
          "text": [
            "La cantidad de valores encontrados fue: 1797\n",
            "La sumatoria de los datos extraidos es: 1606.7480999999987\n",
            "El valor promedio de los datos es: 0.8941280467445744\n",
            "La varianza de estos datos es: 0.012322985913435768\n"
          ]
        }
      ]
    }
  ]
}