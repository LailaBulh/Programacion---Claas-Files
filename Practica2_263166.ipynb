{
  "nbformat": 4,
  "nbformat_minor": 0,
  "metadata": {
    "colab": {
      "provenance": [],
      "toc_visible": true,
      "mount_file_id": "10wrxll5kvvYlWG5ELRIkHU_QX_1JyMxE",
      "authorship_tag": "ABX9TyNRYNHbFV5sBbGjqVEviaoD",
      "include_colab_link": true
    },
    "kernelspec": {
      "name": "python3",
      "display_name": "Python 3"
    },
    "language_info": {
      "name": "python"
    }
  },
  "cells": [
    {
      "cell_type": "markdown",
      "metadata": {
        "id": "view-in-github",
        "colab_type": "text"
      },
      "source": [
        "<a href=\"https://colab.research.google.com/github/LailaBulh/Programacion---Claas-Files/blob/main/Practica2_263166.ipynb\" target=\"_parent\"><img src=\"https://colab.research.google.com/assets/colab-badge.svg\" alt=\"Open In Colab\"/></a>"
      ]
    },
    {
      "cell_type": "code",
      "source": [
        "### Nombre : Laila Montserrat Bulhosen Ramos\n",
        "### Matricula: 263166\n",
        "### Materia: Programacion para analitica prescriptiva y descriptiva\n",
        "\n",
        "### Drive connection\n",
        "\n",
        "from google.colab import drive\n",
        "\n",
        "drive.mount('/content/drive')\n"
      ],
      "metadata": {
        "colab": {
          "base_uri": "https://localhost:8080/"
        },
        "id": "Elcj6C2zb2pD",
        "outputId": "7f5b2ce8-ad27-449e-86db-e612aacc77d7"
      },
      "execution_count": 38,
      "outputs": [
        {
          "output_type": "stream",
          "name": "stdout",
          "text": [
            "Drive already mounted at /content/drive; to attempt to forcibly remount, call drive.mount(\"/content/drive\", force_remount=True).\n"
          ]
        }
      ]
    },
    {
      "cell_type": "markdown",
      "source": [
        "Título: \"Extracción de Información con Expresiones Regulares\".\n",
        "\n",
        "Se analiza un archivo de texto, el cual contiene un conjunto de correos donde se discuten los valores por accion de diferentes empresas.\n",
        "\n",
        "El proposito es extraer de cada correo el nombre de la empresa, el costo de cada accion y la fecha a la que correponde ese costo. Una vez extraidos los datos se debera encontrar el valor maximo, minimo y promedio de cada una de las empresas."
      ],
      "metadata": {
        "id": "wB241GgmckIa"
      }
    },
    {
      "cell_type": "code",
      "source": [
        "import re\n",
        "import pandas as pd"
      ],
      "metadata": {
        "id": "m434jrWYgBKw"
      },
      "execution_count": 40,
      "outputs": []
    },
    {
      "cell_type": "code",
      "source": [
        "f = open('/content/drive/MyDrive/Programacion_ClassFiles/informe_acciones.txt', 'r', encoding='latin-1')\n",
        "\n",
        "data = pd.DataFrame()\n",
        "\n",
        "\n",
        "for line in f:\n",
        "  line = line.rstrip()\n",
        "  ### if leyendo el primer renglon del correo para extraer el nombre de la empresa\n",
        "  if re.search('^Te escribo',line):\n",
        "    res = re.findall(r\"^Te escribo para informarte sobre el valor actual de la acción de ([^(]*).*$\",line)\n",
        "    #print(res)\n",
        "    ### remover caracteres extras\n",
        "    if res:\n",
        "      comp = res[0].rstrip()\n",
        "      #print(comp)\n",
        "  ### if para extraer fecha del string 'Fecha' del correo\n",
        "  if re.search('^Fecha:',line):\n",
        "    res = re.findall(r'^Fecha: (\\d{4}-\\d{2}-\\d{2} \\d{2}:\\d{2}:\\d{2})*$',line)\n",
        "    #print(res)\n",
        "    if res:\n",
        "      ### remover caractres extras\n",
        "      date = res[0]\n",
        "      #print(date)\n",
        "  ### if para extraer del string de 'Valor actual' el costo de la accion\n",
        "  if re.search('^Valor actual:',line):\n",
        "    res = re.findall(r'^Valor actual: \\$([0-9]+\\.[0-9]+)*$',line)\n",
        "    #print(res)\n",
        "    if res:\n",
        "      ### formato del costo de accion\n",
        "      val = float(res[0])\n",
        "      #print(val)\n",
        "\n",
        "    ### Se guarda la informacion extraida en un dataframe de nombre row\n",
        "    row = pd.DataFrame ({'Company': [comp], 'Dates': [date], 'Values': [val]})\n",
        "    #print(row)\n",
        "    ### Se usa el df data para concatenar la informacion\n",
        "    data = pd.concat([data,row], ignore_index=True)\n",
        "    #print(data)\n",
        "\n",
        "### uso de funcion unique para obtenr los unicos valores de cada empresa\n",
        "companies = data['Company'].unique()\n",
        "### se crea lita para presentar los restultados obtenidos anteriormente\n",
        "header = [\"Empresa\", \"Fecha Mas Reciente\", \"Valor Max($)\", \"Valor Min($)\", \"Promedio($)\", \"Varianza($^2$)\",\"Std. Dev ($)\"]\n",
        "print(f\"{header[0]: <31} {header[1]: <22} {header[2]} {header[3]} {header[4]} {header[5]} {header[6]} \")\n",
        "\n",
        "### Se usan los nombres de las companias y usando las funciones max, min y mean se calculan los valores pedidos\n",
        "for comp in companies:\n",
        "    limit_data = data[data['Company'] == comp]\n",
        "    maxval = limit_data['Values'].max()\n",
        "    minval = limit_data['Values'].min()\n",
        "    meanval = limit_data['Values'].mean()\n",
        "    var = limit_data['Values'].var()\n",
        "    devstd = limit_data['Values'].std()\n",
        "    mindate = limit_data['Dates'].min()\n",
        "\n",
        "    print(f\"{comp: <31} {mindate: <22} {maxval: <12} {minval: <12} {meanval:.2f } {var:.2f} {devstd:.2f}\")\n",
        "\n"
      ],
      "metadata": {
        "colab": {
          "base_uri": "https://localhost:8080/",
          "height": 211
        },
        "collapsed": true,
        "id": "8ABowSbx-mF3",
        "outputId": "38756fff-5907-450e-9b85-2ee85d21c92a"
      },
      "execution_count": 83,
      "outputs": [
        {
          "output_type": "stream",
          "name": "stdout",
          "text": [
            "Empresa                         Fecha Mas Reciente     Valor Max($) Valor Min($) Promedio($) Varianza($^2$) Std. Dev ($) \n"
          ]
        },
        {
          "output_type": "error",
          "ename": "ValueError",
          "evalue": "Invalid format specifier '.2f ' for object of type 'float'",
          "traceback": [
            "\u001b[0;31m---------------------------------------------------------------------------\u001b[0m",
            "\u001b[0;31mValueError\u001b[0m                                Traceback (most recent call last)",
            "\u001b[0;32m/tmp/ipython-input-2103940780.py\u001b[0m in \u001b[0;36m<cell line: 0>\u001b[0;34m()\u001b[0m\n\u001b[1;32m     54\u001b[0m     \u001b[0mmindate\u001b[0m \u001b[0;34m=\u001b[0m \u001b[0mlimit_data\u001b[0m\u001b[0;34m[\u001b[0m\u001b[0;34m'Dates'\u001b[0m\u001b[0;34m]\u001b[0m\u001b[0;34m.\u001b[0m\u001b[0mmin\u001b[0m\u001b[0;34m(\u001b[0m\u001b[0;34m)\u001b[0m\u001b[0;34m\u001b[0m\u001b[0;34m\u001b[0m\u001b[0m\n\u001b[1;32m     55\u001b[0m \u001b[0;34m\u001b[0m\u001b[0m\n\u001b[0;32m---> 56\u001b[0;31m     \u001b[0mprint\u001b[0m\u001b[0;34m(\u001b[0m\u001b[0;34mf\"{comp: <31} {mindate: <22} {maxval: <12} {minval: <12} {meanval:.2f } {var:.2f} {devstd:.2f}\"\u001b[0m\u001b[0;34m)\u001b[0m\u001b[0;34m\u001b[0m\u001b[0;34m\u001b[0m\u001b[0m\n\u001b[0m\u001b[1;32m     57\u001b[0m \u001b[0;34m\u001b[0m\u001b[0m\n",
            "\u001b[0;31mValueError\u001b[0m: Invalid format specifier '.2f ' for object of type 'float'"
          ]
        }
      ]
    }
  ]
}