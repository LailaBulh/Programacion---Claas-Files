{
  "nbformat": 4,
  "nbformat_minor": 0,
  "metadata": {
    "colab": {
      "provenance": [],
      "toc_visible": true,
      "mount_file_id": "10wrxll5kvvYlWG5ELRIkHU_QX_1JyMxE",
      "authorship_tag": "ABX9TyNBRSNmsCjQrBwXJ9kVXGEv",
      "include_colab_link": true
    },
    "kernelspec": {
      "name": "python3",
      "display_name": "Python 3"
    },
    "language_info": {
      "name": "python"
    }
  },
  "cells": [
    {
      "cell_type": "markdown",
      "metadata": {
        "id": "view-in-github",
        "colab_type": "text"
      },
      "source": [
        "<a href=\"https://colab.research.google.com/github/LailaBulh/Programacion---Claas-Files/blob/main/Practica2_263166.ipynb\" target=\"_parent\"><img src=\"https://colab.research.google.com/assets/colab-badge.svg\" alt=\"Open In Colab\"/></a>"
      ]
    },
    {
      "cell_type": "code",
      "source": [
        "### Nombre : Laila Montserrat Bulhosen Ramos\n",
        "### Matricula: 263166\n",
        "### Materia: Programacion para analitica prescriptiva y descriptiva\n",
        "\n",
        "### Drive connection\n",
        "\n",
        "from google.colab import drive\n",
        "\n",
        "drive.mount('/content/drive')\n"
      ],
      "metadata": {
        "colab": {
          "base_uri": "https://localhost:8080/"
        },
        "id": "Elcj6C2zb2pD",
        "outputId": "7f5b2ce8-ad27-449e-86db-e612aacc77d7"
      },
      "execution_count": 38,
      "outputs": [
        {
          "output_type": "stream",
          "name": "stdout",
          "text": [
            "Drive already mounted at /content/drive; to attempt to forcibly remount, call drive.mount(\"/content/drive\", force_remount=True).\n"
          ]
        }
      ]
    },
    {
      "cell_type": "markdown",
      "source": [
        "Título: \"Extracción de Información con Expresiones Regulares\".\n",
        "\n",
        "Se analiza un archivo de texto, el cual contiene un conjunto de correos donde se discuten los valores por accion de diferentes empresas.\n",
        "\n",
        "El proposito es extraer de cada correo el nombre de la empresa, el costo de cada accion y la fecha a la que correponde ese costo. Una vez extraidos los datos se debera encontrar el valor maximo, minimo y promedio de cada una de las empresas."
      ],
      "metadata": {
        "id": "wB241GgmckIa"
      }
    },
    {
      "cell_type": "code",
      "source": [
        "import re\n",
        "import pandas as pd"
      ],
      "metadata": {
        "id": "m434jrWYgBKw"
      },
      "execution_count": 40,
      "outputs": []
    },
    {
      "cell_type": "code",
      "source": [
        "f = open('/content/drive/MyDrive/Programacion_ClassFiles/informe_acciones.txt', 'r', encoding='latin-1')\n",
        "\n",
        "data = pd.DataFrame()\n",
        "\n",
        "\n",
        "for line in f:\n",
        "  line = line.rstrip()\n",
        "  ### if leyendo el primer renglon del correo para extraer el nombre de la empresa\n",
        "  if re.search('^Te escribo',line):\n",
        "    res = re.findall(r\"^Te escribo para informarte sobre el valor actual de la acción de ([^(]*).*$\",line)\n",
        "    #print(res)\n",
        "    ### remover caracteres extras\n",
        "    if res:\n",
        "      comp = res[0].rstrip()\n",
        "      #print(comp)\n",
        "  ### if para extraer fecha del string 'Fecha' del correo\n",
        "  if re.search('^Fecha:',line):\n",
        "    res = re.findall(r'^Fecha: (\\d{4}-\\d{2}-\\d{2} \\d{2}:\\d{2}:\\d{2})*$',line)\n",
        "    #print(res)\n",
        "    if res:\n",
        "      ### remover caractres extras\n",
        "      date = res[0]\n",
        "      #print(date)\n",
        "  ### if para extraer del string de 'Valor actual' el costo de la accion\n",
        "  if re.search('^Valor actual:',line):\n",
        "    res = re.findall(r'^Valor actual: \\$([0-9]+\\.[0-9]+)*$',line)\n",
        "    #print(res)\n",
        "    if res:\n",
        "      ### formato del costo de accion\n",
        "      val = float(res[0])\n",
        "      #print(val)\n",
        "\n",
        "    ### Se guarda la informacion extraida en un dataframe de nombre row\n",
        "    row = pd.DataFrame ({'Company': [comp], 'Dates': [date], 'Values': [val]})\n",
        "    #print(row)\n",
        "    ### Se usa el df data para concatenar la informacion\n",
        "    data = pd.concat([data,row], ignore_index=True)\n",
        "    #print(data)\n",
        "\n",
        "### uso de funcion unique para obtenr los unicos valores de cada empresa\n",
        "companies = data['Company'].unique()\n",
        "### se crea lita para presentar los restultados obtenidos anteriormente\n",
        "header = [\"Empresa\", \"Fecha Mas Reciente\", \"Valor Max($)\", \"Valor Min($)\", \"Promedio($)\", \"Varianza($^2$)\",\"Std. Dev ($)\"]\n",
        "print(f\"{header[0]: <31} {header[1]: <22} {header[2]} {header[3]} {header[4]} {header[5]} {header[6]} \")\n",
        "\n",
        "### Se usan los nombres de las companias y usando las funciones max, min y mean se calculan los valores pedidos\n",
        "for comp in companies:\n",
        "    limit_data = data[data['Company'] == comp]\n",
        "    maxval = limit_data['Values'].max()\n",
        "    minval = limit_data['Values'].min()\n",
        "    meanval = limit_data['Values'].mean()\n",
        "    var = limit_data['Values'].var()\n",
        "    devstd = limit_data['Values'].std()\n",
        "    mindate = limit_data['Dates'].min()\n",
        "\n",
        "    print(f\"{comp: <31} {mindate: <22} {maxval: <12} {minval: <12} {meanval:11.2f} {var:13.2f}  {devstd:.2f}\")\n",
        "\n",
        "    #{var:.2f} {devstd:.2f}\n",
        "\n"
      ],
      "metadata": {
        "colab": {
          "base_uri": "https://localhost:8080/"
        },
        "collapsed": true,
        "id": "8ABowSbx-mF3",
        "outputId": "79c96af5-1b43-4924-e0d5-9207d1d97e6c"
      },
      "execution_count": 97,
      "outputs": [
        {
          "output_type": "stream",
          "name": "stdout",
          "text": [
            "Empresa                         Fecha Mas Reciente     Valor Max($) Valor Min($) Promedio($) Varianza($^2$) Std. Dev ($) \n",
            "Cisco Systems Inc.              2024-09-02 12:34:26    1499.73      104.72            794.88     168905.13  410.98\n",
            "Amazon.com Inc.                 2024-09-02 12:34:26    1498.27      103.83            762.75     162759.93  403.44\n",
            "NVIDIA Corporation              2024-09-02 12:34:26    1496.06      103.26            806.61     155798.31  394.71\n",
            "Merck & Co., Inc.               2024-09-02 12:34:26    1495.62      102.43            804.27     168507.55  410.50\n",
            "Microsoft Corp.                 2024-09-02 12:34:26    1494.97      104.05            819.01     156980.25  396.21\n",
            "The Home Depot Inc.             2024-09-02 12:34:26    1490.53      101.1             798.42     161055.21  401.32\n",
            "Salesforce.com Inc.             2024-09-02 12:34:26    1497.8       106.33            816.63     158406.92  398.00\n",
            "Exxon Mobil Corporation         2024-09-02 12:34:26    1498.51      104.62            822.57     178358.01  422.32\n",
            "MasterCard Inc.                 2024-09-02 12:34:26    1499.99      102.26            802.10     173318.35  416.32\n",
            "Intel Corporation               2024-09-02 12:34:26    1489.2       103.85            782.32     154098.57  392.55\n",
            "Alphabet Inc.                   2024-09-02 12:34:26    1497.57      101.77            783.62     169058.73  411.17\n",
            "AT&T Inc.                       2024-09-02 12:34:26    1499.95      101.37            777.28     142454.45  377.43\n",
            "Meta Platforms Inc.             2024-09-02 12:34:26    1495.69      100.47            776.37     148222.68  385.00\n",
            "Netflix Inc.                    2024-09-02 12:34:26    1498.68      101.74            820.10     154472.52  393.03\n",
            "Berkshire Hathaway Inc.         2024-09-02 12:34:26    1497.75      102.99            780.42     171519.07  414.15\n",
            "Pfizer Inc.                     2024-09-02 12:34:26    1493.37      103.04            823.51     169214.27  411.36\n",
            "AbbVie Inc.                     2024-09-02 12:34:26    1493.72      104.19            811.06     168490.44  410.48\n",
            "Johnson & Johnson               2024-09-02 12:34:26    1495.85      106.65            811.58     157943.98  397.42\n",
            "Nike Inc.                       2024-09-02 12:34:26    1497.69      109.78            791.82     165970.10  407.39\n",
            "Oracle Corporation              2024-09-02 12:34:26    1497.32      111.36            798.13     178402.09  422.38\n",
            "Verizon Communications Inc.     2024-09-02 12:34:26    1497.71      101.04            796.79     166063.26  407.51\n",
            "PayPal Holdings Inc.            2024-09-02 12:34:26    1494.49      101.58            813.27     174351.14  417.55\n",
            "Apple Inc.                      2024-09-02 12:34:26    1499.82      101.29            815.54     166516.09  408.06\n",
            "Procter & Gamble Co.            2024-09-02 12:34:26    1490.46      100.24            804.04     167138.12  408.83\n",
            "Adobe Inc.                      2024-09-02 12:34:26    1499.69      105.72            803.03     162240.36  402.79\n",
            "UnitedHealth Group Incorporated 2024-09-02 12:34:26    1492.18      104.71            774.64     156540.73  395.65\n",
            "Tesla Inc.                      2024-09-02 12:34:26    1499.37      108.42            819.29     170027.92  412.34\n",
            "Walmart Inc.                    2024-09-02 12:34:26    1498.6       102.71            773.78     172721.79  415.60\n",
            "Visa Inc.                       2024-09-02 12:34:26    1499.21      101.67            803.02     159532.90  399.42\n"
          ]
        }
      ]
    }
  ]
}