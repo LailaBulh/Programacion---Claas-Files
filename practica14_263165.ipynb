{
  "nbformat": 4,
  "nbformat_minor": 0,
  "metadata": {
    "colab": {
      "provenance": [],
      "authorship_tag": "ABX9TyNjduC5XCvgBkmGqn9ziIEI",
      "include_colab_link": true
    },
    "kernelspec": {
      "name": "python3",
      "display_name": "Python 3"
    },
    "language_info": {
      "name": "python"
    }
  },
  "cells": [
    {
      "cell_type": "markdown",
      "metadata": {
        "id": "view-in-github",
        "colab_type": "text"
      },
      "source": [
        "<a href=\"https://colab.research.google.com/github/LailaBulh/Programacion---Claas-Files/blob/main/practica14_263165.ipynb\" target=\"_parent\"><img src=\"https://colab.research.google.com/assets/colab-badge.svg\" alt=\"Open In Colab\"/></a>"
      ]
    },
    {
      "cell_type": "markdown",
      "source": [
        "**Practica # 14. Limpieza y Transformación de Datos Categóricos**\n",
        "\n",
        "link github:[Practica14_LB](https://github.com/LailaBulh/Programacion---Claas-Files/blob/main/practica14_263165.ipynb)"
      ],
      "metadata": {
        "id": "1G9C-5JqtKEo"
      }
    },
    {
      "cell_type": "code",
      "execution_count": 1,
      "metadata": {
        "colab": {
          "base_uri": "https://localhost:8080/"
        },
        "id": "brT41j4ZqnBD",
        "outputId": "fe192634-2e37-48f7-d157-7bdb276dd949"
      },
      "outputs": [
        {
          "output_type": "stream",
          "name": "stdout",
          "text": [
            "Mounted at /content/drive\n"
          ]
        }
      ],
      "source": [
        "### Drive connection\n",
        "\n",
        "from google.colab import drive\n",
        "\n",
        "drive.mount('/content/drive')"
      ]
    },
    {
      "cell_type": "code",
      "source": [
        "import pandas as pd\n"
      ],
      "metadata": {
        "id": "nQXAn2Egualn"
      },
      "execution_count": 2,
      "outputs": []
    },
    {
      "cell_type": "code",
      "source": [
        "### Carga de archivo csv\n",
        "\n",
        "df = pd.read_csv('/content/drive/MyDrive/Programacion_ClassFiles/nls97.csv')\n",
        "#print(df)"
      ],
      "metadata": {
        "collapsed": true,
        "id": "H-173VPbui-j"
      },
      "execution_count": 68,
      "outputs": []
    },
    {
      "cell_type": "markdown",
      "source": [
        "**Ejercicio 01: Errores Tipográficos y Valores Inconsistentes: maritalstatus**"
      ],
      "metadata": {
        "id": "MAVihZOItv8m"
      }
    },
    {
      "cell_type": "code",
      "source": [
        "### Unique values de col 'maritalstatus' y frecuencia de valores\n",
        "print('Los valores unicos de la columna \"maritalstatus\" son \\n', df['maritalstatus'].unique())\n",
        "\n",
        "print('\\nLa frecuencia de cada valor unico de la columna \"maritalstatus\" es: \\n', df['maritalstatus'].value_counts())\n",
        "\n",
        "### Renombrar valor 'Never-married'\n",
        "df['maritalstatus'] = df['maritalstatus'].replace({'Never-married':'Single'})\n",
        "print('\\nLos valores unicos de la columna \"maritalstatus\" son \\n', df['maritalstatus'].unique())\n",
        "\n",
        "### Frecuencia valor unico\n",
        "print('\\nLa frecuencia de cada valor unico de la columna \"maritalstatus\" es: \\n', df['maritalstatus'].value_counts())"
      ],
      "metadata": {
        "colab": {
          "base_uri": "https://localhost:8080/"
        },
        "collapsed": true,
        "id": "ybLnDXhKu_zt",
        "outputId": "cd24b50a-13b7-4880-8b91-ce2fddc8afcc"
      },
      "execution_count": 69,
      "outputs": [
        {
          "output_type": "stream",
          "name": "stdout",
          "text": [
            "Los valores unicos de la columna \"maritalstatus\" son \n",
            " ['Married' 'Never-married' nan 'Divorced' 'Separated' 'Widowed']\n",
            "\n",
            "La frecuencia de cada valor unico de la columna \"maritalstatus\" es: \n",
            " maritalstatus\n",
            "Married          3066\n",
            "Never-married    2766\n",
            "Divorced          663\n",
            "Separated         154\n",
            "Widowed            23\n",
            "Name: count, dtype: int64\n",
            "\n",
            "Los valores unicos de la columna \"maritalstatus\" son \n",
            " ['Married' 'Single' nan 'Divorced' 'Separated' 'Widowed']\n",
            "\n",
            "La frecuencia de cada valor unico de la columna \"maritalstatus\" es: \n",
            " maritalstatus\n",
            "Married      3066\n",
            "Single       2766\n",
            "Divorced      663\n",
            "Separated     154\n",
            "Widowed        23\n",
            "Name: count, dtype: int64\n"
          ]
        }
      ]
    },
    {
      "cell_type": "markdown",
      "source": [
        "**Ejercicio 02: Errores Tipográficos y Valores Inconsistentes: highestdegree.**\n"
      ],
      "metadata": {
        "id": "C-bgM9t3tyE_"
      }
    },
    {
      "cell_type": "code",
      "source": [
        "### Unique values de col 'maritalstatus' y frecuencia de valores\n",
        "print('Los valores unicos de la columna \"maritalstatus\" son \\n', df['highestdegree'].unique())\n",
        "\n",
        "print('\\nLa frecuencia de cada valor unico de la columna \"highestdegree\" es: \\n', df['highestdegree'].value_counts())\n",
        "\n",
        "### Lowercase\n",
        "df['highestdegree'] = df['highestdegree'].str.lower().str.strip().replace({r'^\\d.':''}, regex = True)\n",
        "print('\\nLa frecuencia de cada valor unico de la columna \"highestdegree\" es: \\n', df['highestdegree'].value_counts())"
      ],
      "metadata": {
        "colab": {
          "base_uri": "https://localhost:8080/"
        },
        "collapsed": true,
        "id": "9ooq5ThF3J2L",
        "outputId": "54edcb95-d4bf-4db6-ff68-57e171a618e6"
      },
      "execution_count": 70,
      "outputs": [
        {
          "output_type": "stream",
          "name": "stdout",
          "text": [
            "Los valores unicos de la columna \"maritalstatus\" son \n",
            " ['2. High School' '0. None' '4. Bachelors' '3. Associates' '5. Masters'\n",
            " '1. GED' '7. Professional' '6. PhD' nan]\n",
            "\n",
            "La frecuencia de cada valor unico de la columna \"highestdegree\" es: \n",
            " highestdegree\n",
            "2. High School     3667\n",
            "4. Bachelors       1673\n",
            "1. GED             1146\n",
            "0. None             953\n",
            "3. Associates       737\n",
            "5. Masters          603\n",
            "7. Professional     120\n",
            "6. PhD               54\n",
            "Name: count, dtype: int64\n",
            "\n",
            "La frecuencia de cada valor unico de la columna \"highestdegree\" es: \n",
            " highestdegree\n",
            "high school     3667\n",
            "bachelors       1673\n",
            "ged             1146\n",
            "none             953\n",
            "associates       737\n",
            "masters          603\n",
            "professional     120\n",
            "phd               54\n",
            "Name: count, dtype: int64\n"
          ]
        }
      ]
    },
    {
      "cell_type": "markdown",
      "source": [
        "**Ejercicio 03: Alta Cardinalidad - Frecuencias Bajas**\n"
      ],
      "metadata": {
        "id": "Q56hgMKDt2Jo"
      }
    },
    {
      "cell_type": "code",
      "source": [
        "### union de categorias 'Widowed y 'Single' en una sola 'Single/No Partner'\n",
        "\n",
        "df['marital_grouped'] = df['maritalstatus'].replace({'Widowed' : 'Single/No Partner', 'Single' : 'Single/No Partner'})\n",
        "\n",
        "print('Los valores unicos de la columna \"marital_grouped\" son \\n',df['marital_grouped'].unique())\n",
        "\n",
        "print('\\nLa frecuencia de cada valor unico de la columna \"marital_grouped\" es: \\n', df['marital_grouped'].value_counts() )"
      ],
      "metadata": {
        "colab": {
          "base_uri": "https://localhost:8080/"
        },
        "id": "FeWgEn0lAnN5",
        "outputId": "fa360205-6c06-4195-af0d-8feff00ed236"
      },
      "execution_count": 71,
      "outputs": [
        {
          "output_type": "stream",
          "name": "stdout",
          "text": [
            "Los valores unicos de la columna \"marital_grouped\" son \n",
            " ['Married' 'Single/No Partner' nan 'Divorced' 'Separated']\n",
            "\n",
            "La frecuencia de cada valor unico de la columna \"marital_grouped\" es: \n",
            " marital_grouped\n",
            "Married              3066\n",
            "Single/No Partner    2789\n",
            "Divorced              663\n",
            "Separated             154\n",
            "Name: count, dtype: int64\n"
          ]
        }
      ]
    },
    {
      "cell_type": "markdown",
      "source": [
        "**Ejercicio 04: Tipos de Datos**\n"
      ],
      "metadata": {
        "id": "e5A8xzXft3dh"
      }
    },
    {
      "cell_type": "code",
      "source": [
        "### Tipo de dato columna gender\n",
        "print('El tipo de dato para la columna \"gender\" es: \\n',df['gender'].dtypes)\n",
        "\n",
        "### Memoria utilizada por la columna 'gender'\n",
        "print('La memoria en bytes de la columna \"gender\" es: \\n', {df['gender'].memory_usage(deep= True)})\n",
        "\n",
        "### Cambio de tipo object a category\n",
        "df['gender'] = df['gender'].astype('category')\n",
        "print('El tipo de dato para la columna \"gender\" es: \\n',df['gender'].dtypes)\n",
        "\n",
        "### Memoria utilizada por la columna 'gender'\n",
        "print('La memoria en bytes de la columna \"gender\" como columna tipo category es: \\n', {df['gender'].memory_usage(deep= True)})"
      ],
      "metadata": {
        "colab": {
          "base_uri": "https://localhost:8080/"
        },
        "id": "wxH_4oXeGpIv",
        "outputId": "be6245dd-f1d3-4180-878d-97b17b486a04"
      },
      "execution_count": 72,
      "outputs": [
        {
          "output_type": "stream",
          "name": "stdout",
          "text": [
            "El tipo de dato para la columna \"gender\" es: \n",
            " object\n",
            "La memoria en bytes de la columna \"gender\" es: \n",
            " {485054}\n",
            "El tipo de dato para la columna \"gender\" es: \n",
            " category\n",
            "La memoria en bytes de la columna \"gender\" como columna tipo category es: \n",
            " {9332}\n"
          ]
        }
      ]
    }
  ]
}