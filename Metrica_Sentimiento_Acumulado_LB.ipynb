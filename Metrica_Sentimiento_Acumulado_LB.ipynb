{
  "nbformat": 4,
  "nbformat_minor": 0,
  "metadata": {
    "colab": {
      "provenance": [],
      "mount_file_id": "1sKnL6HsGasztnwiqWKTf1u3duzwLxgk8",
      "authorship_tag": "ABX9TyOjCZcdf/bomjVWmpYazmfV",
      "include_colab_link": true
    },
    "kernelspec": {
      "name": "python3",
      "display_name": "Python 3"
    },
    "language_info": {
      "name": "python"
    }
  },
  "cells": [
    {
      "cell_type": "markdown",
      "metadata": {
        "id": "view-in-github",
        "colab_type": "text"
      },
      "source": [
        "<a href=\"https://colab.research.google.com/github/LailaBulh/Programacion---Claas-Files/blob/main/Metrica_Sentimiento_Acumulado_LB.ipynb\" target=\"_parent\"><img src=\"https://colab.research.google.com/assets/colab-badge.svg\" alt=\"Open In Colab\"/></a>"
      ]
    },
    {
      "cell_type": "markdown",
      "source": [
        "# **Metrica del Sentimiento Acumulado**\n",
        "\n",
        "Nombre: Laila Bulhosen\n",
        "Matricula: 263166\n",
        "\n",
        "#**Descripcion**\n",
        "\n",
        "En esta tarea utilizaremos la integración definida y la integración numérica para comparar resultados exactos y aproximados del valor de una integral\n",
        "\n",
        "La semana pasada estuvimos trabajando con datos que simulaban la disposición de ciertos usuarios para comprar un producto determinado. A este comportamiento se le conoce como \"análisis de sentimiento\". Con estos datos se puede calcular el impacto total de sentimiento de un grupo de usuarios. Esto nos daría la acumulación total de la probabilidad de compra en cierto rango de salarios. Con esto podemos identificar qué grupo de ingresos es el mejor objetivo de marketing y ajustar estrategias de precio según la capacidad de compra.\n",
        "\n",
        "Si los tenemos los datos de los salarios 𝑠𝑖\n",
        " y la probabilidad de compra 𝑝(𝑠)\n",
        " en un intervalo 𝑠∈[𝑎,𝑏]\n",
        " de salarios, podemos calcular el impacto de sentimiento como\n",
        "\n",
        "𝐼=∫𝑏𝑎𝑝(𝑠)𝑑𝑠\n",
        "\n",
        "Para los datos que utilizó en la tarea anterior calcule el impacto de sentimiento 𝐼\n",
        " en el intervalo de salarios dados utilizando:Compare los resultados obtenidos en la pregunta anterior"
      ],
      "metadata": {
        "id": "pUeeQcMIxVze"
      }
    },
    {
      "cell_type": "code",
      "execution_count": 2,
      "metadata": {
        "id": "4wbBi-_gxT25"
      },
      "outputs": [],
      "source": [
        "import pandas as pd\n",
        "import sympy as sy\n",
        "import numpy as np\n",
        "import matplotlib.pyplot as plt\n"
      ]
    },
    {
      "cell_type": "markdown",
      "source": [
        "**Metodo de sumas de Riemann**"
      ],
      "metadata": {
        "id": "lxxR8fKHzIpz"
      }
    },
    {
      "cell_type": "code",
      "source": [
        "df = pd.read_csv('/content/drive/MyDrive/clase_matematicas/compra_producto.csv')\n",
        "#print(df)\n",
        "\n",
        "x0 = 20\n",
        "a, b = 6, 30\n",
        "\n",
        "### Funcion\n",
        "def p(s):\n",
        "  return 1 / (1 + np.exp(-(s-x0)))\n"
      ],
      "metadata": {
        "id": "_unwcAh2yK_j"
      },
      "execution_count": 3,
      "outputs": []
    },
    {
      "cell_type": "code",
      "source": [
        "def riemann_sum(f, a, b, n, method=\"left\"):\n",
        "    dx = (b - a) / n\n",
        "    if method == \"left\":\n",
        "      ### un vector que va de a hasta b, divido en n pedacitos\n",
        "        x = np.linspace(a, b-dx, n)\n",
        "        #print(x)\n",
        "    ### se evalua de derecha a izquierda\n",
        "    elif method == \"right\":\n",
        "        x = np.linspace(a+dx, b, n)\n",
        "        #print(x)\n",
        "    ### en el punto medio de cada punto\n",
        "    else:  # midpoint\n",
        "        x = np.linspace(a+dx/2, b-dx/2, n)\n",
        "        #print(x)\n",
        "    return np.sum(f(x) * dx)"
      ],
      "metadata": {
        "id": "NBwBdq2568It"
      },
      "execution_count": 4,
      "outputs": []
    },
    {
      "cell_type": "code",
      "source": [
        "print('Suma de Riemann izquierda ')\n",
        "for n in [10, 50, 100, 500]:\n",
        "    print(f\"n={n:3d} | Suma de Riemann izquierda ≈ {riemann_sum(p, a, b, n, 'left'):.8f}\")\n",
        "\n",
        "print('Suma de Riemann derecha ')\n",
        "\n",
        "for n in [10, 50, 100, 500]:\n",
        "    print(f\"n={n:3d} | Suma de Riemann derecha ≈ {riemann_sum(p, a, b, n, 'right'):.8f}\")\n",
        "\n",
        "print('Suma de Riemann midpoint ')\n",
        "for n in [10, 50, 100, 500]:\n",
        "    print(f\"n={n:3d} | Suma de Riemann midpoint ≈ {riemann_sum(p, a, b, n, 'm'):.8f}\")"
      ],
      "metadata": {
        "colab": {
          "base_uri": "https://localhost:8080/"
        },
        "id": "nOvEn7A67A1P",
        "outputId": "e850d7a7-ce22-4ffc-ca0c-8810403e0503"
      },
      "execution_count": 27,
      "outputs": [
        {
          "output_type": "stream",
          "name": "stdout",
          "text": [
            "Suma de Riemann izquierda \n",
            "n= 10 | Suma de Riemann izquierda ≈ 8.80303657\n",
            "n= 50 | Suma de Riemann izquierda ≈ 9.76005651\n",
            "n=100 | Suma de Riemann izquierda ≈ 9.88005033\n",
            "n=500 | Suma de Riemann izquierda ≈ 9.97604569\n",
            "Suma de Riemann derecha \n",
            "n= 10 | Suma de Riemann derecha ≈ 11.20292562\n",
            "n= 50 | Suma de Riemann derecha ≈ 10.24003432\n",
            "n=100 | Suma de Riemann derecha ≈ 10.12003923\n",
            "n=500 | Suma de Riemann derecha ≈ 10.02404347\n",
            "Suma de Riemann midpoint \n",
            "n= 10 | Suma de Riemann midpoint ≈ 9.99712005\n",
            "n= 50 | Suma de Riemann midpoint ≈ 10.00004414\n",
            "n=100 | Suma de Riemann midpoint ≈ 10.00004446\n",
            "n=500 | Suma de Riemann midpoint ≈ 10.00004456\n"
          ]
        }
      ]
    },
    {
      "cell_type": "markdown",
      "source": [
        "**Metodo de los trapecios**"
      ],
      "metadata": {
        "id": "JIi63jf5zIjn"
      }
    },
    {
      "cell_type": "code",
      "source": [
        "def trapecio_sum(p, a, b, n):\n",
        "    dx = (b - a) / n\n",
        "    s_values = np.linspace(a+dx, b-dx, n)\n",
        "    result = p(a) + p(b)\n",
        "    for x in s_values:\n",
        "      result += 2 * p(x)\n",
        "    return (dx/2)*result\n",
        "\n",
        "print('\\nSuma de trapecios:', trapecio_sum(p, a, b, 10),'\\n')\n",
        "print('Suma de trapecios:', trapecio_sum(p, a, b, 50),'\\n')\n",
        "print('Suma de trapecios:', trapecio_sum(p, a, b, 100),'\\n')\n",
        "print('Suma de trapecios:', trapecio_sum(p, a, b, 500),'\\n')\n",
        "print('Suma de trapecios:', trapecio_sum(p, a, b, 100000),'\\n')"
      ],
      "metadata": {
        "colab": {
          "base_uri": "https://localhost:8080/"
        },
        "id": "WbPAz4nQ9VnS",
        "outputId": "a93c5bb7-29ac-46a5-999d-814fb4ec4327"
      },
      "execution_count": 31,
      "outputs": [
        {
          "output_type": "stream",
          "name": "stdout",
          "text": [
            "\n",
            "Suma de trapecios: 10.9495864800405 \n",
            "\n",
            "Suma de trapecios: 10.198380225651423 \n",
            "\n",
            "Suma de trapecios: 10.099637193191366 \n",
            "\n",
            "Suma de trapecios: 10.020028605544866 \n",
            "\n",
            "Suma de trapecios: 10.000144567416898 \n",
            "\n"
          ]
        }
      ]
    },
    {
      "cell_type": "markdown",
      "source": [
        "**Integrando directamente la función 𝑝(𝑠)=11+𝑒−(𝑠−𝑠0)\n",
        ", donde 𝑠0\n",
        " es el punto que escogió para obtener el desarrollo de Taylor**"
      ],
      "metadata": {
        "id": "tCzVrdcFzIb-"
      }
    },
    {
      "cell_type": "code",
      "source": [
        "### Integracion exacta\n",
        "\n",
        "from scipy.integrate import quad\n",
        "exacta, _ = quad(p, a, b)\n",
        "print(\"Integral exacta:\", exacta)"
      ],
      "metadata": {
        "colab": {
          "base_uri": "https://localhost:8080/"
        },
        "id": "cvKYK_qd79VD",
        "outputId": "d9b28a44-338d-4075-ad7a-fdab6420698f"
      },
      "execution_count": 6,
      "outputs": [
        {
          "output_type": "stream",
          "name": "stdout",
          "text": [
            "Integral exacta: 10.000044567370846\n"
          ]
        }
      ]
    },
    {
      "cell_type": "markdown",
      "source": [
        "**Integrando directamente la aproximación de Taylor obtenida en la tarea anteior para la función 𝑝(𝑠)**"
      ],
      "metadata": {
        "id": "4mes_nQth-wW"
      }
    },
    {
      "cell_type": "code",
      "source": [
        "x0 = 20\n",
        "\n",
        "### Variable simbolica\n",
        "x = sy.symbols('x')\n",
        "\n",
        "### Funcion logistica\n",
        "f = 1 / (1 + sy.exp(-(x-x0)))\n",
        "\n",
        "### Polinomio de Taylor de orden 3\n",
        "\n",
        "taylor_der1 = sy.diff(f, x, 1)\n",
        "taylor_der2 = sy.diff(f, x, 2)\n",
        "taylor_der3 = sy.diff(f, x, 3)\n",
        "\n",
        "print('\\nLa primer derivada para la funcion logistica es:\\n',taylor_der1)\n",
        "print('\\nLa segunda derivada para la funcion logistica es:\\n',taylor_der2)\n",
        "print('\\nLa tercera derivada para la funcion logistica es:\\n',taylor_der3)\n",
        "\n",
        "\n",
        "taylor_expansion = f + (taylor_der1*(x-x0))+ ((taylor_der2 / 2 ) * (x-x0)**2) + ((taylor_der3 / 6) * (x-x0)**3)\n"
      ],
      "metadata": {
        "colab": {
          "base_uri": "https://localhost:8080/"
        },
        "id": "5MshrAoa2XOL",
        "outputId": "789b87b4-d14f-4894-b0dd-19e76b97f442"
      },
      "execution_count": 14,
      "outputs": [
        {
          "output_type": "stream",
          "name": "stdout",
          "text": [
            "\n",
            "La primer derivada para la funcion logistica es:\n",
            " exp(20 - x)/(exp(20 - x) + 1)**2\n",
            "\n",
            "La segunda derivada para la funcion logistica es:\n",
            " (-exp(20 - x) + 2*exp(40 - 2*x)/(exp(20 - x) + 1))/(exp(20 - x) + 1)**2\n",
            "\n",
            "La tercera derivada para la funcion logistica es:\n",
            " (exp(20 - x) - 6*exp(40 - 2*x)/(exp(20 - x) + 1) + 6*exp(60 - 3*x)/(exp(20 - x) + 1)**2)/(exp(20 - x) + 1)**2\n"
          ]
        }
      ]
    },
    {
      "cell_type": "code",
      "source": [
        "taylor_integrate = sy.integrate(taylor_expansion,(x, a, b))\n",
        "\n",
        "print(f'Integracion de aproximacion de Taylor: \\n {taylor_integrate.evalf()}')"
      ],
      "metadata": {
        "colab": {
          "base_uri": "https://localhost:8080/"
        },
        "id": "QFs99mbt3wbY",
        "outputId": "cade73de-4cd8-4cfc-a71c-c40ed611921c"
      },
      "execution_count": 17,
      "outputs": [
        {
          "output_type": "stream",
          "name": "stdout",
          "text": [
            "Integracion de aproximacion de Taylor: \n",
            " 9.99237266624301\n"
          ]
        }
      ]
    },
    {
      "cell_type": "markdown",
      "source": [
        " **Comparacion de resultados**\n"
      ],
      "metadata": {
        "id": "qnj60FhK5Ily"
      }
    },
    {
      "cell_type": "code",
      "source": [
        "### Evaluacion de polinomios\n",
        "\n",
        "salario = np.array(df['salario en miles'])\n",
        "print(salario)\n",
        "\n",
        "eval_function = sy.lambdify(x, taylor_expansion, 'numpy')\n",
        "\n",
        "### Evaluar polinomio para cada valor de salario\n",
        "result = eval_function(salario)\n",
        "print(result)\n",
        "\n",
        "### Se agrega resultado a df original\n",
        "df['Evaluacion_polinomio'] = result\n",
        "print(df)\n",
        "\n"
      ],
      "metadata": {
        "colab": {
          "base_uri": "https://localhost:8080/"
        },
        "collapsed": true,
        "id": "E9hLL1Jh5J2c",
        "outputId": "e1be8d58-0e17-4112-cf7c-b9549cec9a0b"
      },
      "execution_count": 20,
      "outputs": [
        {
          "output_type": "stream",
          "name": "stdout",
          "text": [
            "[ 6  7  8  9 10 11 12 13 14 15 16 17 18 19 20 21 22 23 24 25 26 27 28 29\n",
            " 30]\n",
            "[-3.09603582e-04 -6.63770036e-04 -1.39465923e-03 -2.86112470e-03\n",
            " -5.70288309e-03 -1.09708829e-02 -2.01755479e-02 -3.49508462e-02\n",
            " -5.56290825e-02 -7.75356838e-02 -8.48819709e-02 -5.22818631e-02\n",
            "  1.73385299e-02  1.23645959e-01  5.00000000e-01  8.76354041e-01\n",
            "  9.82661470e-01  1.05228186e+00  1.08488197e+00  1.07753568e+00\n",
            "  1.05562908e+00  1.03495085e+00  1.02017555e+00  1.01097088e+00\n",
            "  1.00570288e+00]\n",
            "    salario en miles  Probabilidad  Evaluacion_polinomio\n",
            "0                  6        0.0200             -0.000310\n",
            "1                  7        0.0000             -0.000664\n",
            "2                  8        0.0600             -0.001395\n",
            "3                  9        0.0400             -0.002861\n",
            "4                 10        0.0400             -0.005703\n",
            "5                 11        0.0399             -0.010971\n",
            "6                 12        0.0597             -0.020176\n",
            "7                 13        0.0391             -0.034951\n",
            "8                 14        0.0375             -0.055629\n",
            "9                 15        0.0067             -0.077536\n",
            "10                16        0.0020             -0.084882\n",
            "11                17        0.0274             -0.052282\n",
            "12                18        0.0992              0.017339\n",
            "13                19        0.2289              0.123646\n",
            "14                20        0.5000              0.500000\n",
            "15                21        0.7111              0.876354\n",
            "16                22        0.8408              0.982661\n",
            "17                23        0.9326              1.052282\n",
            "18                24        0.9620              1.084882\n",
            "19                25        0.9933              1.077536\n",
            "20                26        0.9975              1.055629\n",
            "21                27        0.9991              1.034951\n",
            "22                28        0.9597              1.020176\n",
            "23                29        0.9399              1.010971\n",
            "24                30        0.9800              1.005703\n"
          ]
        }
      ]
    },
    {
      "cell_type": "code",
      "source": [
        "### Evaluacion de ecuacion original\n",
        "\n",
        "salario = np.array(df['salario en miles'])\n",
        "#print(salario)\n",
        "\n",
        "eval_function = sy.lambdify(x, f, 'numpy')\n",
        "\n",
        "### Evaluar polinomio para cada valor de salario\n",
        "result = eval_function(salario)\n",
        "print(result)\n",
        "\n",
        "### Se agrega resultado a df original\n",
        "df['Evaluacion_Ecuacion_original'] = result\n",
        "print(df)\n"
      ],
      "metadata": {
        "colab": {
          "base_uri": "https://localhost:8080/"
        },
        "collapsed": true,
        "id": "tZErGFr25tMN",
        "outputId": "86d32df0-3a09-4823-dc86-d5584e7e3847"
      },
      "execution_count": 22,
      "outputs": [
        {
          "output_type": "stream",
          "name": "stdout",
          "text": [
            "[8.31528028e-07 2.26032430e-06 6.14417460e-06 1.67014218e-05\n",
            " 4.53978687e-05 1.23394576e-04 3.35350130e-04 9.11051194e-04\n",
            " 2.47262316e-03 6.69285092e-03 1.79862100e-02 4.74258732e-02\n",
            " 1.19202922e-01 2.68941421e-01 5.00000000e-01 7.31058579e-01\n",
            " 8.80797078e-01 9.52574127e-01 9.82013790e-01 9.93307149e-01\n",
            " 9.97527377e-01 9.99088949e-01 9.99664650e-01 9.99876605e-01\n",
            " 9.99954602e-01]\n",
            "    salario en miles  Probabilidad  Evaluacion_polinomio  \\\n",
            "0                  6        0.0200             -0.000310   \n",
            "1                  7        0.0000             -0.000664   \n",
            "2                  8        0.0600             -0.001395   \n",
            "3                  9        0.0400             -0.002861   \n",
            "4                 10        0.0400             -0.005703   \n",
            "5                 11        0.0399             -0.010971   \n",
            "6                 12        0.0597             -0.020176   \n",
            "7                 13        0.0391             -0.034951   \n",
            "8                 14        0.0375             -0.055629   \n",
            "9                 15        0.0067             -0.077536   \n",
            "10                16        0.0020             -0.084882   \n",
            "11                17        0.0274             -0.052282   \n",
            "12                18        0.0992              0.017339   \n",
            "13                19        0.2289              0.123646   \n",
            "14                20        0.5000              0.500000   \n",
            "15                21        0.7111              0.876354   \n",
            "16                22        0.8408              0.982661   \n",
            "17                23        0.9326              1.052282   \n",
            "18                24        0.9620              1.084882   \n",
            "19                25        0.9933              1.077536   \n",
            "20                26        0.9975              1.055629   \n",
            "21                27        0.9991              1.034951   \n",
            "22                28        0.9597              1.020176   \n",
            "23                29        0.9399              1.010971   \n",
            "24                30        0.9800              1.005703   \n",
            "\n",
            "    Evaluacion_Ecuacion_original  \n",
            "0                   8.315280e-07  \n",
            "1                   2.260324e-06  \n",
            "2                   6.144175e-06  \n",
            "3                   1.670142e-05  \n",
            "4                   4.539787e-05  \n",
            "5                   1.233946e-04  \n",
            "6                   3.353501e-04  \n",
            "7                   9.110512e-04  \n",
            "8                   2.472623e-03  \n",
            "9                   6.692851e-03  \n",
            "10                  1.798621e-02  \n",
            "11                  4.742587e-02  \n",
            "12                  1.192029e-01  \n",
            "13                  2.689414e-01  \n",
            "14                  5.000000e-01  \n",
            "15                  7.310586e-01  \n",
            "16                  8.807971e-01  \n",
            "17                  9.525741e-01  \n",
            "18                  9.820138e-01  \n",
            "19                  9.933071e-01  \n",
            "20                  9.975274e-01  \n",
            "21                  9.990889e-01  \n",
            "22                  9.996646e-01  \n",
            "23                  9.998766e-01  \n",
            "24                  9.999546e-01  \n"
          ]
        }
      ]
    },
    {
      "cell_type": "code",
      "source": [
        "#print(df.head())\n",
        "\n",
        "df.plot(kind='line', x= 'salario en miles', y= ['Probabilidad','Evaluacion_polinomio','Evaluacion_Ecuacion_original'])\n",
        "\n",
        "plt.title('Polinomios de Taylor')\n",
        "plt.xlabel('Salario en miles')\n",
        "plt.ylabel('Probabilidad de compra')"
      ],
      "metadata": {
        "colab": {
          "base_uri": "https://localhost:8080/",
          "height": 490
        },
        "id": "akJBhp5RiDy2",
        "outputId": "544a3a27-ee1d-4fe4-e834-5f23074d153e"
      },
      "execution_count": 24,
      "outputs": [
        {
          "output_type": "execute_result",
          "data": {
            "text/plain": [
              "Text(0, 0.5, 'Probabilidad de compra')"
            ]
          },
          "metadata": {},
          "execution_count": 24
        },
        {
          "output_type": "display_data",
          "data": {
            "text/plain": [
              "<Figure size 640x480 with 1 Axes>"
            ],
            "image/png": "[encoded data removed]"
          },
          "metadata": {}
        }
      ]
    },
    {
      "cell_type": "markdown",
      "source": [
        "**Conclusiones**\n",
        "\n",
        "Se pudo observar que el metodo que mejor se acerca a la integral exacta es el metodo de sumas de Riemann usando midpoint ya que se acerco mas con solo 500 particiones.\n",
        "Al realizar el metodo de trapecios utilizando el mismo numero base de particiones con las que se evaluo el metodo de midpoint, el resutado no logro acercarse a la integral exacta, se jugaron con los valores y se vio que fueron necesarias mas de 100,000 particiones para que el resultado empezara a acercarse."
      ],
      "metadata": {
        "id": "FnYgUrcY7J8D"
      }
    }
  ]
}