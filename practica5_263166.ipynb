{
  "nbformat": 4,
  "nbformat_minor": 0,
  "metadata": {
    "colab": {
      "provenance": [],
      "mount_file_id": "1_DT0s7nQ92fS9c-YmA7N1zNlIzPJidFz",
      "authorship_tag": "ABX9TyOs0TOFaSmhBzb81HyVtPh0",
      "include_colab_link": true
    },
    "kernelspec": {
      "name": "python3",
      "display_name": "Python 3"
    },
    "language_info": {
      "name": "python"
    }
  },
  "cells": [
    {
      "cell_type": "markdown",
      "metadata": {
        "id": "view-in-github",
        "colab_type": "text"
      },
      "source": [
        "<a href=\"https://colab.research.google.com/github/LailaBulh/Programacion---Claas-Files/blob/main/practica5_263166.ipynb\" target=\"_parent\"><img src=\"https://colab.research.google.com/assets/colab-badge.svg\" alt=\"Open In Colab\"/></a>"
      ]
    },
    {
      "cell_type": "markdown",
      "source": [
        " Uso de máscaras booleanas\n"
      ],
      "metadata": {
        "id": "OcOzcLfvYiTs"
      }
    },
    {
      "cell_type": "code",
      "execution_count": 1,
      "metadata": {
        "id": "aSpZ_DxXYe9V"
      },
      "outputs": [],
      "source": [
        "import numpy as np"
      ]
    },
    {
      "cell_type": "code",
      "source": [
        "### Definicion de un arreglo aleatorio de 15 numeros entre 1-50\n",
        "arr = np.random.randint(1,51,15)\n",
        "print(arr)\n",
        "\n",
        "### inicializacion de contador\n",
        "c = 0\n",
        "\n",
        "### ciclo for para iterar entre cada valor del arreglo\n",
        "### if loop para comparar que numeros cumplen la condicion de ser mayores a 25\n",
        "\n",
        "for i in arr:\n",
        "  if i > 25:\n",
        "    #print(i)\n",
        "    c += 1\n",
        "\n",
        "print(f'Hay {c} valores mayores de 25 en el arreglo')"
      ],
      "metadata": {
        "colab": {
          "base_uri": "https://localhost:8080/"
        },
        "id": "O3avUPhdazmn",
        "outputId": "1d5c80f8-af93-432b-a126-b2201dc81918"
      },
      "execution_count": 10,
      "outputs": [
        {
          "output_type": "stream",
          "name": "stdout",
          "text": [
            "[12 40  2 37 37 18 24  4 12 26 27 28  1 18  3]\n",
            "Hay 6 valores mayores de 25 en el arreglo\n"
          ]
        }
      ]
    }
  ]
}