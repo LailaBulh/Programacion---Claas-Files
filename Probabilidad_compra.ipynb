{
  "nbformat": 4,
  "nbformat_minor": 0,
  "metadata": {
    "colab": {
      "provenance": [],
      "mount_file_id": "1tTw9zfABCbb4O6PV2IHjJEuRIQlaF0tR",
      "authorship_tag": "ABX9TyNHKjsoEcZs/gwGwB6+B7jz",
      "include_colab_link": true
    },
    "kernelspec": {
      "name": "python3",
      "display_name": "Python 3"
    },
    "language_info": {
      "name": "python"
    }
  },
  "cells": [
    {
      "cell_type": "markdown",
      "metadata": {
        "id": "view-in-github",
        "colab_type": "text"
      },
      "source": [
        "<a href=\"https://colab.research.google.com/github/LailaBulh/Programacion---Claas-Files/blob/main/Probabilidad_compra.ipynb\" target=\"_parent\"><img src=\"https://colab.research.google.com/assets/colab-badge.svg\" alt=\"Open In Colab\"/></a>"
      ]
    },
    {
      "cell_type": "markdown",
      "source": [
        "# **Probabilidad de compra**\n",
        "\n",
        "link github: [notebook_LB](https://github.com/LailaBulh/Programacion---Claas-Files/blob/main/Probabilidad_compra.ipynb)"
      ],
      "metadata": {
        "id": "oujdkSNxww-q"
      }
    },
    {
      "cell_type": "code",
      "execution_count": 55,
      "metadata": {
        "id": "lPjnLphsJXvX"
      },
      "outputs": [],
      "source": [
        "import pandas as pd\n",
        "import sympy as sy\n",
        "import numpy as np\n",
        "import matplotlib.pyplot as plt\n"
      ]
    },
    {
      "cell_type": "markdown",
      "source": [
        "# Encuentre el polinomio de Taylor de orden 3 para la funcion logistica alrededor de x0"
      ],
      "metadata": {
        "id": "wiSFomi-m7Kv"
      }
    },
    {
      "cell_type": "code",
      "source": [
        "df = pd.read_csv('/content/drive/MyDrive/clase_matematicas/compra_producto.csv')\n",
        "print(df)\n",
        "\n",
        "x0 = 20\n",
        "\n",
        "### Variable simbolica\n",
        "x = sy.symbols('x')\n",
        "\n",
        "### Funcion logistica\n",
        "f = 1 / (1 + exp(-(x-x0)))\n",
        "\n",
        "### Polinomio de Taylor de orden 3\n",
        "\n",
        "taylor_der1 = sy.diff(f, x, 1)\n",
        "taylor_der2 = sy.diff(f, x, 2)\n",
        "taylor_der3 = sy.diff(f, x, 3)\n",
        "\n",
        "print('\\nLa primer derivada para la funcion logistica es:\\n',taylor_der1)\n",
        "print('\\nLa segunda derivada para la funcion logistica es:\\n',taylor_der2)\n",
        "print('\\nLa tercera derivada para la funcion logistica es:\\n',taylor_der3)\n",
        "\n",
        "\n",
        "taylor_expansion = f + (taylor_der1*(x-x0))+ ((taylor_der2 / 2 ) * (x-x0)**2) + ((taylor_der3 / 6) * (x-x0)**3)\n"
      ],
      "metadata": {
        "colab": {
          "base_uri": "https://localhost:8080/"
        },
        "collapsed": true,
        "id": "y9ZjXk-xMeHQ",
        "outputId": "b81cb575-823c-4b52-c390-68c6c710aa9f"
      },
      "execution_count": 56,
      "outputs": [
        {
          "output_type": "stream",
          "name": "stdout",
          "text": [
            "    salario en miles  Probabilidad\n",
            "0                  6        0.0200\n",
            "1                  7        0.0000\n",
            "2                  8        0.0600\n",
            "3                  9        0.0400\n",
            "4                 10        0.0400\n",
            "5                 11        0.0399\n",
            "6                 12        0.0597\n",
            "7                 13        0.0391\n",
            "8                 14        0.0375\n",
            "9                 15        0.0067\n",
            "10                16        0.0020\n",
            "11                17        0.0274\n",
            "12                18        0.0992\n",
            "13                19        0.2289\n",
            "14                20        0.5000\n",
            "15                21        0.7111\n",
            "16                22        0.8408\n",
            "17                23        0.9326\n",
            "18                24        0.9620\n",
            "19                25        0.9933\n",
            "20                26        0.9975\n",
            "21                27        0.9991\n",
            "22                28        0.9597\n",
            "23                29        0.9399\n",
            "24                30        0.9800\n",
            "\n",
            "La primer derivada para la funcion logistica es:\n",
            " exp(20 - x)/(exp(20 - x) + 1)**2\n",
            "\n",
            "La segunda derivada para la funcion logistica es:\n",
            " (-exp(20 - x) + 2*exp(40 - 2*x)/(exp(20 - x) + 1))/(exp(20 - x) + 1)**2\n",
            "\n",
            "La tercera derivada para la funcion logistica es:\n",
            " (exp(20 - x) - 6*exp(40 - 2*x)/(exp(20 - x) + 1) + 6*exp(60 - 3*x)/(exp(20 - x) + 1)**2)/(exp(20 - x) + 1)**2\n"
          ]
        }
      ]
    },
    {
      "cell_type": "markdown",
      "source": [
        "# Evalue el polinomio obtenido para cada uno de los salarios de la tabla"
      ],
      "metadata": {
        "id": "5JyMQcTznEQa"
      }
    },
    {
      "cell_type": "code",
      "source": [
        "salario = np.array(df['salario en miles'])\n",
        "print(salario)\n",
        "\n",
        "eval_function = sy.lambdify(x, taylor_expansion, 'numpy')\n",
        "\n",
        "### Evaluar polinomio para cada valor de salario\n",
        "result = eval_function(salario)\n",
        "print(result)\n",
        "\n",
        "### Se agrega resultado a df original\n",
        "df['Evaluacion_polinomio'] = result\n",
        "print(df)\n",
        "\n"
      ],
      "metadata": {
        "colab": {
          "base_uri": "https://localhost:8080/"
        },
        "id": "vyJk7HNOmT9_",
        "outputId": "b7e3d992-fbcf-4196-f7f5-ee26f6d45ffe"
      },
      "execution_count": 57,
      "outputs": [
        {
          "output_type": "stream",
          "name": "stdout",
          "text": [
            "[ 6  7  8  9 10 11 12 13 14 15 16 17 18 19 20 21 22 23 24 25 26 27 28 29\n",
            " 30]\n",
            "[-3.09603582e-04 -6.63770036e-04 -1.39465923e-03 -2.86112470e-03\n",
            " -5.70288309e-03 -1.09708829e-02 -2.01755479e-02 -3.49508462e-02\n",
            " -5.56290825e-02 -7.75356838e-02 -8.48819709e-02 -5.22818631e-02\n",
            "  1.73385299e-02  1.23645959e-01  5.00000000e-01  8.76354041e-01\n",
            "  9.82661470e-01  1.05228186e+00  1.08488197e+00  1.07753568e+00\n",
            "  1.05562908e+00  1.03495085e+00  1.02017555e+00  1.01097088e+00\n",
            "  1.00570288e+00]\n",
            "    salario en miles  Probabilidad  Evaluacion_polinomio\n",
            "0                  6        0.0200             -0.000310\n",
            "1                  7        0.0000             -0.000664\n",
            "2                  8        0.0600             -0.001395\n",
            "3                  9        0.0400             -0.002861\n",
            "4                 10        0.0400             -0.005703\n",
            "5                 11        0.0399             -0.010971\n",
            "6                 12        0.0597             -0.020176\n",
            "7                 13        0.0391             -0.034951\n",
            "8                 14        0.0375             -0.055629\n",
            "9                 15        0.0067             -0.077536\n",
            "10                16        0.0020             -0.084882\n",
            "11                17        0.0274             -0.052282\n",
            "12                18        0.0992              0.017339\n",
            "13                19        0.2289              0.123646\n",
            "14                20        0.5000              0.500000\n",
            "15                21        0.7111              0.876354\n",
            "16                22        0.8408              0.982661\n",
            "17                23        0.9326              1.052282\n",
            "18                24        0.9620              1.084882\n",
            "19                25        0.9933              1.077536\n",
            "20                26        0.9975              1.055629\n",
            "21                27        0.9991              1.034951\n",
            "22                28        0.9597              1.020176\n",
            "23                29        0.9399              1.010971\n",
            "24                30        0.9800              1.005703\n"
          ]
        }
      ]
    },
    {
      "cell_type": "markdown",
      "source": [
        "# Encuentre el error de aproximacion calculando el valor absoluto de la difrencia de los valroes aproximados y los reales"
      ],
      "metadata": {
        "id": "KAPkoFP2uu9L"
      }
    },
    {
      "cell_type": "code",
      "source": [
        "### Diferencia entre valores evaluadion y de probabilidad\n",
        "\n",
        "df['Diferencia']= abs(df['Probabilidad']-df['Evaluacion_polinomio'])\n",
        "\n",
        "print(df)"
      ],
      "metadata": {
        "colab": {
          "base_uri": "https://localhost:8080/"
        },
        "id": "owtUmpjnmz1w",
        "outputId": "8a09c0e0-ff82-4709-cf32-fc599d8eec45"
      },
      "execution_count": 58,
      "outputs": [
        {
          "output_type": "stream",
          "name": "stdout",
          "text": [
            "    salario en miles  Probabilidad  Evaluacion_polinomio  Diferencia\n",
            "0                  6        0.0200             -0.000310    0.020310\n",
            "1                  7        0.0000             -0.000664    0.000664\n",
            "2                  8        0.0600             -0.001395    0.061395\n",
            "3                  9        0.0400             -0.002861    0.042861\n",
            "4                 10        0.0400             -0.005703    0.045703\n",
            "5                 11        0.0399             -0.010971    0.050871\n",
            "6                 12        0.0597             -0.020176    0.079876\n",
            "7                 13        0.0391             -0.034951    0.074051\n",
            "8                 14        0.0375             -0.055629    0.093129\n",
            "9                 15        0.0067             -0.077536    0.084236\n",
            "10                16        0.0020             -0.084882    0.086882\n",
            "11                17        0.0274             -0.052282    0.079682\n",
            "12                18        0.0992              0.017339    0.081861\n",
            "13                19        0.2289              0.123646    0.105254\n",
            "14                20        0.5000              0.500000    0.000000\n",
            "15                21        0.7111              0.876354    0.165254\n",
            "16                22        0.8408              0.982661    0.141861\n",
            "17                23        0.9326              1.052282    0.119682\n",
            "18                24        0.9620              1.084882    0.122882\n",
            "19                25        0.9933              1.077536    0.084236\n",
            "20                26        0.9975              1.055629    0.058129\n",
            "21                27        0.9991              1.034951    0.035851\n",
            "22                28        0.9597              1.020176    0.060476\n",
            "23                29        0.9399              1.010971    0.071071\n",
            "24                30        0.9800              1.005703    0.025703\n"
          ]
        }
      ]
    },
    {
      "cell_type": "markdown",
      "source": [
        "# Grafique los valores aproximados y los reales y analice el resultado"
      ],
      "metadata": {
        "id": "EhoOYhNtv3iw"
      }
    },
    {
      "cell_type": "code",
      "source": [
        "df.plot(kind='line', x= 'salario en miles', y= ['Probabilidad','Evaluacion_polinomio'])\n",
        "\n",
        "plt.title('Polinomios de Taylor')\n",
        "plt.xlabel('Salario en miles')\n",
        "plt.ylabel('Probabilidad de compra')"
      ],
      "metadata": {
        "colab": {
          "base_uri": "https://localhost:8080/",
          "height": 490
        },
        "id": "obZm9n1kvFzv",
        "outputId": "8da97ff7-0fa0-45ef-e6b5-78c32acc0dae"
      },
      "execution_count": 60,
      "outputs": [
        {
          "output_type": "execute_result",
          "data": {
            "text/plain": [
              "Text(0, 0.5, 'Probabilidad de compra')"
            ]
          },
          "metadata": {},
          "execution_count": 60
        },
        {
          "output_type": "display_data",
          "data": {
            "text/plain": [
              "<Figure size 640x480 with 1 Axes>"
            ],
            "image/png": "[encoded data removed]"
          },
          "metadata": {}
        }
      ]
    }
  ]
}