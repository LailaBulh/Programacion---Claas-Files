{
  "nbformat": 4,
  "nbformat_minor": 0,
  "metadata": {
    "colab": {
      "provenance": [],
      "authorship_tag": "ABX9TyOh9ERYTl2j6gcKVxoQkc7F",
      "include_colab_link": true
    },
    "kernelspec": {
      "name": "python3",
      "display_name": "Python 3"
    },
    "language_info": {
      "name": "python"
    }
  },
  "cells": [
    {
      "cell_type": "markdown",
      "metadata": {
        "id": "view-in-github",
        "colab_type": "text"
      },
      "source": [
        "<a href=\"https://colab.research.google.com/github/LailaBulh/Programacion---Claas-Files/blob/main/FactorizacionMatrices_LB.ipynb\" target=\"_parent\"><img src=\"https://colab.research.google.com/assets/colab-badge.svg\" alt=\"Open In Colab\"/></a>"
      ]
    },
    {
      "cell_type": "code",
      "execution_count": 1,
      "metadata": {
        "id": "rfM1qpH8hAen"
      },
      "outputs": [],
      "source": [
        "import numpy as np\n",
        "from scipy.linalg import lu, cholesky, qr, svd"
      ]
    },
    {
      "cell_type": "code",
      "source": [
        "### Declaracion de matriz A\n",
        "\n",
        "A = np.array([[3, 3, 9],\n",
        "             [18, 9, 3],\n",
        "             [1, 6, 3]], dtype= float)\n",
        "\n",
        "### Declaracion de matriz B\n",
        "\n",
        "B = np.array([[18, 9 ,3],\n",
        "             [1, 6, 3],\n",
        "             [3, 3, 9]], dtype= float)\n",
        "\n",
        "print('Matriz A:\\n', A)\n",
        "\n",
        "print('Matriz B diagonalmente predominante: \\n', B)"
      ],
      "metadata": {
        "colab": {
          "base_uri": "https://localhost:8080/"
        },
        "collapsed": true,
        "id": "ouyxLP6HhYki",
        "outputId": "49aca5aa-d95a-47b1-e277-6dc8a3875d22"
      },
      "execution_count": 28,
      "outputs": [
        {
          "output_type": "stream",
          "name": "stdout",
          "text": [
            "Matriz A:\n",
            " [[ 3.  3.  9.]\n",
            " [18.  9.  3.]\n",
            " [ 1.  6.  3.]]\n",
            "Matriz B diagonalmente predominante: \n",
            " [[18.  9.  3.]\n",
            " [ 1.  6.  3.]\n",
            " [ 3.  3.  9.]]\n"
          ]
        }
      ]
    },
    {
      "cell_type": "markdown",
      "source": [
        "# Obtenga la factorización LU de la matriz B\n",
        "\n",
        "\n"
      ],
      "metadata": {
        "id": "kQ12TjR5qNOi"
      }
    },
    {
      "cell_type": "code",
      "source": [
        "P, L, U = lu(B)\n",
        "\n",
        "print('Matriz L:\\n', L)\n",
        "\n",
        "print('\\nMatriz U:\\n', U)\n",
        "\n",
        "print('\\nReconstruccion: \\n', P @ L @ U)\n",
        "\n",
        "print('\\nMatriz P:\\n', P)\n"
      ],
      "metadata": {
        "colab": {
          "base_uri": "https://localhost:8080/"
        },
        "collapsed": true,
        "id": "daqWgLUtqHQ8",
        "outputId": "5c90f856-8427-4bed-a0a1-ba7b89c1475c"
      },
      "execution_count": 18,
      "outputs": [
        {
          "output_type": "stream",
          "name": "stdout",
          "text": [
            "Matriz L:\n",
            " [[1.         0.         0.        ]\n",
            " [0.05555556 1.         0.        ]\n",
            " [0.16666667 0.27272727 1.        ]]\n",
            "\n",
            "Matriz U:\n",
            " [[18.          9.          3.        ]\n",
            " [ 0.          5.5         2.83333333]\n",
            " [ 0.          0.          7.72727273]]\n",
            "\n",
            "Reconstruccion: \n",
            " [[18.  9.  3.]\n",
            " [ 1.  6.  3.]\n",
            " [ 3.  3.  9.]]\n",
            "\n",
            "Matriz P:\n",
            " [[1. 0. 0.]\n",
            " [0. 1. 0.]\n",
            " [0. 0. 1.]]\n"
          ]
        }
      ]
    },
    {
      "cell_type": "code",
      "source": [
        "P, L, U = lu(A)\n",
        "\n",
        "print('Matriz L:\\n', L)\n",
        "\n",
        "print('\\nMatriz U:\\n', U)\n",
        "\n",
        "print('\\nReconstruccion: \\n', P @ L @ U)\n",
        "\n",
        "print('\\nMatriz P:\\n', P)\n",
        "\n"
      ],
      "metadata": {
        "colab": {
          "base_uri": "https://localhost:8080/"
        },
        "id": "fVRqzIEUuGzy",
        "outputId": "0fe6fe5f-8f3c-48dc-8225-31a7b9e95f55"
      },
      "execution_count": 25,
      "outputs": [
        {
          "output_type": "stream",
          "name": "stdout",
          "text": [
            "Matriz L:\n",
            " [[ 1.          0.          0.        ]\n",
            " [-0.05555556  1.          0.        ]\n",
            " [-0.16666667 -0.23076923  1.        ]]\n",
            "\n",
            "Matriz U:\n",
            " [[18.          9.         -3.        ]\n",
            " [ 0.          6.5        -3.16666667]\n",
            " [ 0.          0.          7.76923077]]\n",
            "\n",
            "Reconstruccion: \n",
            " [[-3. -3.  9.]\n",
            " [18.  9. -3.]\n",
            " [-1.  6. -3.]]\n",
            "\n",
            "Matriz P:\n",
            " [[0. 0. 1.]\n",
            " [1. 0. 0.]\n",
            " [0. 1. 0.]]\n"
          ]
        }
      ]
    },
    {
      "cell_type": "markdown",
      "source": [
        "# Obtenga la factorización QR de la matriz B"
      ],
      "metadata": {
        "id": "vl48r_Ojr4LQ"
      }
    },
    {
      "cell_type": "code",
      "source": [
        "Q, R = qr(B)\n",
        "\n",
        "print('Matriz Q:\\n', Q)\n",
        "\n",
        "print('Matriz R:\\n', R)\n",
        "\n",
        "print('\\nReconstruccion: \\n', Q @ R)"
      ],
      "metadata": {
        "colab": {
          "base_uri": "https://localhost:8080/"
        },
        "id": "OOyWjgEosFWE",
        "outputId": "40c9294a-a825-4505-ce7a-7b60a980c394"
      },
      "execution_count": 27,
      "outputs": [
        {
          "output_type": "stream",
          "name": "stdout",
          "text": [
            "Matriz Q:\n",
            " [[-0.98491618  0.09497167 -0.14463921]\n",
            " [-0.05471757 -0.96396243 -0.26035058]\n",
            " [-0.1641527  -0.2485092   0.95461881]]\n",
            "Matriz R:\n",
            " [[-18.27566688  -9.6850091   -4.5962755 ]\n",
            " [  0.          -5.67455715  -4.84355505]\n",
            " [  0.           0.           7.37659989]]\n",
            "\n",
            "Reconstruccion: \n",
            " [[18.  9.  3.]\n",
            " [ 1.  6.  3.]\n",
            " [ 3.  3.  9.]]\n"
          ]
        }
      ]
    },
    {
      "cell_type": "markdown",
      "source": [
        "#Obtenga la factorización en valores singulares de la matriz B\n"
      ],
      "metadata": {
        "id": "hVhX9fwcr6Zb"
      }
    },
    {
      "cell_type": "code",
      "source": [
        "U, s, Vt = svd(B, full_matrices=False)\n",
        "\n",
        "print('Matriz U:\\n', U)\n",
        "\n",
        "print('\\nMatriz s:\\n', s)\n",
        "\n",
        "print('\\nMatriz Vt:\\n', Vt)\n",
        "\n",
        "print('\\nReconstruccion: \\n', U @ np.diag(s) @ Vt)"
      ],
      "metadata": {
        "colab": {
          "base_uri": "https://localhost:8080/"
        },
        "id": "uNjV9aYswwi4",
        "outputId": "5dc5925e-614c-4e39-fc32-73b5b1aade7a"
      },
      "execution_count": 23,
      "outputs": [
        {
          "output_type": "stream",
          "name": "stdout",
          "text": [
            "Matriz U:\n",
            " [[-0.92978188  0.36266682  0.06307483]\n",
            " [-0.21290979 -0.3900395  -0.89584519]\n",
            " [-0.30029165 -0.84636988  0.43986697]]\n",
            "\n",
            "Matriz s:\n",
            " [21.62010328  8.65116007  4.09005665]\n",
            "\n",
            "Matriz Vt:\n",
            " [[-0.82561394 -0.4878039  -0.28356478]\n",
            " [ 0.41599665 -0.18672007 -0.88999011]\n",
            " [ 0.38119341 -0.85275024  0.35708348]]\n",
            "\n",
            "Reconstruccion: \n",
            " [[18.  9.  3.]\n",
            " [ 1.  6.  3.]\n",
            " [ 3.  3.  9.]]\n"
          ]
        }
      ]
    }
  ]
}