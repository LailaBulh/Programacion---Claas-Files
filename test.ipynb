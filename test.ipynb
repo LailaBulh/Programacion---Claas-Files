{
  "nbformat": 4,
  "nbformat_minor": 0,
  "metadata": {
    "colab": {
      "provenance": [],
      "mount_file_id": "1z_H7BShRD3Hyf2_9zXKPjQ21uzKDo2Dz",
      "authorship_tag": "ABX9TyMv5wM2wpmN6QgcqsmtMAvD",
      "include_colab_link": true
    },
    "kernelspec": {
      "name": "python3",
      "display_name": "Python 3"
    },
    "language_info": {
      "name": "python"
    }
  },
  "cells": [
    {
      "cell_type": "markdown",
      "metadata": {
        "id": "view-in-github",
        "colab_type": "text"
      },
      "source": [
        "<a href=\"https://colab.research.google.com/github/LailaBulh/Programacion---Claas-Files/blob/main/test.ipynb\" target=\"_parent\"><img src=\"https://colab.research.google.com/assets/colab-badge.svg\" alt=\"Open In Colab\"/></a>"
      ]
    },
    {
      "cell_type": "code",
      "execution_count": 1,
      "metadata": {
        "id": "ToIjlZWb1c3N",
        "colab": {
          "base_uri": "https://localhost:8080/"
        },
        "outputId": "344644e2-0d47-49ad-d2e9-91627e50114a"
      },
      "outputs": [
        {
          "output_type": "stream",
          "name": "stdout",
          "text": [
            "Hola que tal\n"
          ]
        }
      ],
      "source": [
        "## test\n",
        "\n",
        "print('Hola que tal')"
      ]
    }
  ]
}