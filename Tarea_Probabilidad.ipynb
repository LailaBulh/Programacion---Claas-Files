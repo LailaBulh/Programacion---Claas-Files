{
  "nbformat": 4,
  "nbformat_minor": 0,
  "metadata": {
    "colab": {
      "provenance": [],
      "authorship_tag": "ABX9TyPNAF2YwU5+bkXBYgW1NN1y",
      "include_colab_link": true
    },
    "kernelspec": {
      "name": "python3",
      "display_name": "Python 3"
    },
    "language_info": {
      "name": "python"
    }
  },
  "cells": [
    {
      "cell_type": "markdown",
      "metadata": {
        "id": "view-in-github",
        "colab_type": "text"
      },
      "source": [
        "<a href=\"https://colab.research.google.com/github/LailaBulh/Programacion---Claas-Files/blob/main/Tarea_Probabilidad.ipynb\" target=\"_parent\"><img src=\"https://colab.research.google.com/assets/colab-badge.svg\" alt=\"Open In Colab\"/></a>"
      ]
    },
    {
      "cell_type": "markdown",
      "source": [
        "**Nombre:** Laila Bulhosen\n",
        "\n",
        "**Matricula:** 263166\n",
        "\n",
        "\n",
        "\n",
        "Un experimento consiste en lanzar dos dados y observar la suma de los\n",
        "dos. Halle la probabilidad que:\n",
        "* La suma sea 7\n",
        "* La probabilidad que la suma sea mayor que 10.\n",
        "\n",
        "Compruebe los resultados teóricos obtenidos utilizando un programa de\n",
        "que simule ambos ejercicios. Repita el problema un número suficientemente grande de veces y determine con qué precisión el resultado teórico puede\n",
        "ser corroborado experimentalmente."
      ],
      "metadata": {
        "id": "9mDFttisUHh5"
      }
    },
    {
      "cell_type": "code",
      "execution_count": 60,
      "metadata": {
        "id": "QE6UAlXURUwV"
      },
      "outputs": [],
      "source": [
        "import numpy as np\n"
      ]
    },
    {
      "cell_type": "code",
      "source": [
        "\n",
        "lanzamientos = [ 100, 1000, 10000, 100000, 1000000]\n",
        "\n",
        "for trial in lanzamientos:\n",
        "  #print(trial)\n",
        "  count = 0\n",
        "\n",
        "  for i in range(trial):\n",
        "    dado_1 = np.random.randint(1,7)\n",
        "    dado_2 = np.random.randint(1,7)\n",
        "    #print(dado_1,dado_2)\n",
        "    sum = dado_1 + dado_2\n",
        "    #print(sum,'\\n*****')\n",
        "\n",
        "    ### Cuantas veces aparece el resultado de 7 en la suma\n",
        "    if sum == 7:\n",
        "      count += 1\n",
        "\n",
        "#print('\\n\\naparece 7: ',count)\n",
        "\n",
        "    prob_7 = count / trial\n",
        "\n",
        "\n",
        "  print(f'Probabilidad que aparezca 7 como resultado de tirar dos dados {trial} veces: ',prob_7)"
      ],
      "metadata": {
        "colab": {
          "base_uri": "https://localhost:8080/"
        },
        "collapsed": true,
        "id": "YDAYxfKmRjEA",
        "outputId": "79209f57-4abe-4cd0-945d-31ab530d9539"
      },
      "execution_count": 110,
      "outputs": [
        {
          "output_type": "stream",
          "name": "stdout",
          "text": [
            "Probabilidad que aparezca 7 como resultado de tirar dos dados 100 veces:  0.19\n",
            "Probabilidad que aparezca 7 como resultado de tirar dos dados 1000 veces:  0.17\n",
            "Probabilidad que aparezca 7 como resultado de tirar dos dados 10000 veces:  0.1664\n",
            "Probabilidad que aparezca 7 como resultado de tirar dos dados 100000 veces:  0.16554\n",
            "Probabilidad que aparezca 7 como resultado de tirar dos dados 1000000 veces:  0.165955\n"
          ]
        }
      ]
    },
    {
      "cell_type": "code",
      "source": [
        "\n",
        "lanzamientos = [ 100, 1000, 10000, 100000, 1000000]\n",
        "\n",
        "for trial in lanzamientos:\n",
        "  #print(trial)\n",
        "  count = 0\n",
        "\n",
        "  for i in range(trial):\n",
        "    dado_1 = np.random.randint(1,7)\n",
        "    dado_2 = np.random.randint(1,7)\n",
        "    #print(dado_1,dado_2)\n",
        "    sum = dado_1 + dado_2\n",
        "    #print(sum,'\\n*****')\n",
        "\n",
        "    ### Cuantas veces aparece el resultado de 7 en la suma\n",
        "    if sum > 10 :\n",
        "      count += 1\n",
        "\n",
        "#print('\\n\\naparece 7: ',count)\n",
        "\n",
        "    prob_7 = count / trial\n",
        "\n",
        "\n",
        "  print(f'Probabilidad que aparezca 7 como resultado de tirar dos dados {trial} veces: ',prob_7)"
      ],
      "metadata": {
        "colab": {
          "base_uri": "https://localhost:8080/"
        },
        "id": "QJFs8K650g5x",
        "outputId": "43fa3b18-7163-42b8-f9c5-b444daac1173"
      },
      "execution_count": 111,
      "outputs": [
        {
          "output_type": "stream",
          "name": "stdout",
          "text": [
            "Probabilidad que aparezca 7 como resultado de tirar dos dados 100 veces:  0.1\n",
            "Probabilidad que aparezca 7 como resultado de tirar dos dados 1000 veces:  0.082\n",
            "Probabilidad que aparezca 7 como resultado de tirar dos dados 10000 veces:  0.0816\n",
            "Probabilidad que aparezca 7 como resultado de tirar dos dados 100000 veces:  0.08192\n",
            "Probabilidad que aparezca 7 como resultado de tirar dos dados 1000000 veces:  0.083938\n"
          ]
        }
      ]
    }
  ]
}