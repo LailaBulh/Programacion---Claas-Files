{
  "nbformat": 4,
  "nbformat_minor": 0,
  "metadata": {
    "colab": {
      "provenance": [],
      "authorship_tag": "ABX9TyO9KP33oyy+QXrOQCLDgiM/",
      "include_colab_link": true
    },
    "kernelspec": {
      "name": "python3",
      "display_name": "Python 3"
    },
    "language_info": {
      "name": "python"
    }
  },
  "cells": [
    {
      "cell_type": "markdown",
      "metadata": {
        "id": "view-in-github",
        "colab_type": "text"
      },
      "source": [
        "<a href=\"https://colab.research.google.com/github/LailaBulh/Programacion---Claas-Files/blob/main/practica4_263166.ipynb\" target=\"_parent\"><img src=\"https://colab.research.google.com/assets/colab-badge.svg\" alt=\"Open In Colab\"/></a>"
      ]
    },
    {
      "cell_type": "markdown",
      "source": [
        "Practica #4. Manipulación de matrices"
      ],
      "metadata": {
        "id": "OyTRCqIIo337"
      }
    },
    {
      "cell_type": "markdown",
      "source": [
        "link a github:"
      ],
      "metadata": {
        "id": "nNyVGiLKo3dL"
      }
    },
    {
      "cell_type": "markdown",
      "source": [
        "Manipulación de matrices\n",
        "\n",
        "Crea dos matrices de 3x3 con números aleatorios entre 1 y 10. Realiza las siguientes operaciones:\n",
        "\n",
        "Suma ambas matrices.\n",
        "Resta la segunda matriz de la primera.\n",
        "Multiplica la primera matriz por 2.\n",
        "Realiza una multiplicación matricial entre las dos matrices."
      ],
      "metadata": {
        "id": "s9O7ek9Do1uM"
      }
    },
    {
      "cell_type": "code",
      "execution_count": 2,
      "metadata": {
        "id": "pxbU3F4BoXnK"
      },
      "outputs": [],
      "source": [
        "import numpy as np"
      ]
    },
    {
      "cell_type": "code",
      "source": [
        "### Definicion de matrices\n",
        "\n",
        "m1 = np.random.randint(1,11, (3,3))\n",
        "m2 = np.random.randint(1,11, (3,3))\n",
        "\n",
        "print(f'Matriz A: \\n{m1}')\n",
        "print(f'Matriz B: \\n{m2}')\n",
        "\n",
        "### Suma de matrices\n",
        "sum = m1 + m2\n",
        "print(f'La suma de las matrices A y B es: \\n{sum}')\n",
        "\n",
        "### Resta de matrices\n",
        "subs = m1 - m2\n",
        "print(f'La resta de la matrices B menos A es: \\n{subs}')\n",
        "\n",
        "### Matriz A por 2\n",
        "doub = np.dot(m1,2)\n",
        "print(f'La matrices A multiplicada por 2 es: \\n{doub}')\n",
        "\n",
        "### Multiplicacion de matrices\n",
        "mult = np.dot(m1,m2)\n",
        "print(f'La multiplicacion de la matriz A * B es: \\n{mult}')"
      ],
      "metadata": {
        "colab": {
          "base_uri": "https://localhost:8080/"
        },
        "id": "AjCu6eL0qZux",
        "outputId": "bfd67832-2434-46e0-e11a-feed0750fddb"
      },
      "execution_count": 20,
      "outputs": [
        {
          "output_type": "stream",
          "name": "stdout",
          "text": [
            "Matriz A: \n",
            "[[ 6  2  9]\n",
            " [ 9  6  5]\n",
            " [ 6  4 10]]\n",
            "Matriz B: \n",
            "[[ 6  7  2]\n",
            " [ 6  7 10]\n",
            " [ 5  8  1]]\n",
            "La suma de las matrices A y B es: \n",
            "[[12  9 11]\n",
            " [15 13 15]\n",
            " [11 12 11]]\n",
            "La resta de la matrices B menos A es: \n",
            "[[ 0 -5  7]\n",
            " [ 3 -1 -5]\n",
            " [ 1 -4  9]]\n",
            "La matrices A multiplicada por 2 es: \n",
            "[[12  4 18]\n",
            " [18 12 10]\n",
            " [12  8 20]]\n",
            "La multiplicacion de la matriz A * B es: \n",
            "[[ 93 128  41]\n",
            " [115 145  83]\n",
            " [110 150  62]]\n"
          ]
        }
      ]
    }
  ]
}