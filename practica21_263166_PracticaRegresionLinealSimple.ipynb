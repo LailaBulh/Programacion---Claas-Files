{
  "cells": [
    {
      "cell_type": "markdown",
      "metadata": {
        "id": "view-in-github",
        "colab_type": "text"
      },
      "source": [
        "<a href=\"https://colab.research.google.com/github/LailaBulh/Programacion---Claas-Files/blob/main/practica21_263166_PracticaRegresionLinealSimple.ipynb\" target=\"_parent\"><img src=\"https://colab.research.google.com/assets/colab-badge.svg\" alt=\"Open In Colab\"/></a>"
      ]
    },
    {
      "cell_type": "markdown",
      "id": "700f4b14",
      "metadata": {
        "id": "700f4b14"
      },
      "source": [
        "# **Maestría en Inteligencia Artificial y Analítica de Datos**\n",
        "\n",
        "## Programación para Analítica Descriptiva y Predictiva - Marzo 2025\n",
        "## Práctica: Regresión Lineal Simple con Scikit-Learn\n",
        "---\n",
        "\n",
        "\n",
        "## Datos del Estudiante\n",
        "\n",
        "*   Apellidos y Nombre:  Laila Montserrat Bulhosen Ramos\n",
        "*   Matrícula: 263166\n",
        "*   Link Github [Practica21](https://github.com/LailaBulh/Programacion---Claas-Files/blob/main/practica21_263166_PracticaRegresionLinealSimple.ipynb)\n",
        "\n",
        "---\n",
        "\n",
        "## Objetivo de aprendizaje\n",
        "Al finalizar esta práctica, el estudiante será capaz de **aplicar la regresión lineal simple utilizando Scikit-Learn para modelar la relación entre dos variables numéricas**, verificar los principales supuestos del modelo (linealidad, normalidad de residuos y homocedasticidad), **interpretar los coeficientes del modelo**, calcular e interpretar la **correlación entre variables** y evaluar el desempeño del modelo mediante métricas como el MSE, RMSE y R².\n",
        "\n",
        "\n",
        "Trabajarás con el archivo restaurantes.csv, que contiene dos columnas:\n",
        "\n",
        "- `poblation`: población de la ciudad (variable independiente). Tiene valores decimales mayores que cero. Estos valores representan la población de la ciudad multiplicada por 10,000. Por ejemplo, 6.1101 significa que la población de esa ciudad es 61,101.\n",
        "\n",
        "- `profit`: ganancia del restaurante en esa ciudad (variable dependiente). Tiene valores decimales, algunos negativos y otros positivos. Estos representan las ganancias mensuales promedio de su restaurante en cada ciudad, en unidades de $10,000. Por ejemplo, 17.592 representa 175,920 en ganancias mensuales promedio para esa ciudad. -2.6807 representa -26,807 en pérdidas mensuales promedio para esa ciudad.\n",
        "\n",
        "\n",
        "\n"
      ]
    },
    {
      "cell_type": "markdown",
      "id": "669474c7",
      "metadata": {
        "id": "669474c7"
      },
      "source": [
        "## 🔧 Parte 1: Carga de datos y bibliotecas\n",
        "1. Importa las bibliotecas necesarias.\n",
        "2. Carga el archivo `restaurantes.csv`\n",
        "3. Muestra las primeras filas del dataframe.\n",
        "4. Describe estadísticamente el conjunto de datos."
      ]
    },
    {
      "cell_type": "markdown",
      "source": [
        "**Importacion de librerias**"
      ],
      "metadata": {
        "id": "R9XmISgM43Ef"
      },
      "id": "R9XmISgM43Ef"
    },
    {
      "cell_type": "code",
      "source": [
        "from google.colab import drive\n",
        "drive.mount('/content/drive')"
      ],
      "metadata": {
        "colab": {
          "base_uri": "https://localhost:8080/"
        },
        "id": "NbFS7SRD15s8",
        "outputId": "61bf0cdf-a81f-4b77-c64d-3920cd9b38b7"
      },
      "id": "NbFS7SRD15s8",
      "execution_count": null,
      "outputs": [
        {
          "output_type": "stream",
          "name": "stdout",
          "text": [
            "Mounted at /content/drive\n"
          ]
        }
      ]
    },
    {
      "cell_type": "code",
      "source": [
        "import pandas as pd\n",
        "import matplotlib.pyplot as plt\n",
        "from scipy.stats import pearsonr"
      ],
      "metadata": {
        "id": "_SVPtEEb0mRH"
      },
      "id": "_SVPtEEb0mRH",
      "execution_count": null,
      "outputs": []
    },
    {
      "cell_type": "code",
      "execution_count": null,
      "id": "a4dde479",
      "metadata": {
        "id": "a4dde479",
        "colab": {
          "base_uri": "https://localhost:8080/"
        },
        "outputId": "cdcebcb9-dc56-4d2d-d882-b806e58e0aeb"
      },
      "outputs": [
        {
          "output_type": "stream",
          "name": "stdout",
          "text": [
            "Primeras filas en el dataframe:\n",
            "    poblation   profit\n",
            "0     6.1101  17.5920\n",
            "1     5.5277   9.1302\n",
            "2     8.5186  13.6620\n",
            "3     7.0032  11.8540\n",
            "4     5.8598   6.8233\n",
            "\n",
            "\n",
            "Descripcion estadistica del dataset:\n",
            "        poblation     profit\n",
            "count  97.000000  97.000000\n",
            "mean    8.159800   5.839135\n",
            "std     3.869884   5.510262\n",
            "min     5.026900  -2.680700\n",
            "25%     5.707700   1.986900\n",
            "50%     6.589400   4.562300\n",
            "75%     8.578100   7.046700\n",
            "max    22.203000  24.147000\n",
            "\n",
            "Verificacion de datos nulos:\n",
            "\n",
            "<class 'pandas.core.frame.DataFrame'>\n",
            "RangeIndex: 97 entries, 0 to 96\n",
            "Data columns (total 2 columns):\n",
            " #   Column     Non-Null Count  Dtype  \n",
            "---  ------     --------------  -----  \n",
            " 0   poblation  97 non-null     float64\n",
            " 1   profit     97 non-null     float64\n",
            "dtypes: float64(2)\n",
            "memory usage: 1.6 KB\n",
            "None\n"
          ]
        }
      ],
      "source": [
        "# Escribe tu código aquí\n",
        "df = pd.read_csv('/content/drive/MyDrive/Programacion_ClassFiles/archivos_practicas/restaurantes.csv')\n",
        "\n",
        "print('Primeras filas en el dataframe:\\n',df.head())\n",
        "\n",
        "\n",
        "print('\\n\\nDescripcion estadistica del dataset:\\n',df.describe())\n",
        "\n",
        "print('\\nVerificacion de datos nulos:\\n')\n",
        "print(df.info())"
      ]
    },
    {
      "cell_type": "markdown",
      "id": "8bfdca52",
      "metadata": {
        "id": "8bfdca52"
      },
      "source": [
        "##  Parte 2: Análisis exploratorio y relación entre variables\n",
        "\n",
        "### 2.1 Diagrama de Dispersión\n",
        "1. Grafica un **diagrama de dispersión** entre `poblation` y `profit`\n"
      ]
    },
    {
      "cell_type": "code",
      "execution_count": null,
      "id": "094918f1",
      "metadata": {
        "id": "094918f1",
        "colab": {
          "base_uri": "https://localhost:8080/",
          "height": 472
        },
        "outputId": "be370ace-ce81-4801-cbd5-46d3c30c7bb5"
      },
      "outputs": [
        {
          "output_type": "display_data",
          "data": {
            "text/plain": [
              "<Figure size 640x480 with 1 Axes>"
            ],
            "image/png": "[encoded data removed]"
          },
          "metadata": {}
        }
      ],
      "source": [
        "# Diagrama de dispersión\n",
        "\n",
        "plt.scatter(df['poblation'], df['profit'], color='slateblue')\n",
        "\n",
        "plt.xlabel('Poblacion')\n",
        "plt.ylabel('Ganancia')\n",
        "plt.title('Diagrama de dispersion entre poblacion y ganancia', size= 12)\n",
        "plt.show()\n"
      ]
    },
    {
      "cell_type": "markdown",
      "source": [
        "2. **¿La relación entre las variables parece lineal? ¿Por qué?**\n",
        "\n",
        "A simple vista si pareciera tener un comportamiento lineal ya que conforme aumenta la poblacion tambien lo hacen de manera proporcional las ganancias de los restaurantes."
      ],
      "metadata": {
        "id": "zbgWBc9W6ULS"
      },
      "id": "zbgWBc9W6ULS"
    },
    {
      "cell_type": "markdown",
      "id": "825e73ab",
      "metadata": {
        "id": "825e73ab"
      },
      "source": [
        "### 2.2: Cálculo e interpretación de la correlación\n",
        "1. Calcula e imprime el **coeficiente de correlación de Pearson** entre `poblation` y `profit`\n"
      ]
    },
    {
      "cell_type": "code",
      "execution_count": null,
      "id": "dd87f634",
      "metadata": {
        "id": "dd87f634",
        "colab": {
          "base_uri": "https://localhost:8080/"
        },
        "outputId": "8492f744-1bfe-48b5-d570-71076eddae12"
      },
      "outputs": [
        {
          "output_type": "execute_result",
          "data": {
            "text/plain": [
              "PearsonRResult(statistic=np.float64(0.8378732325263409), pvalue=np.float64(1.0232099778760897e-26))"
            ]
          },
          "metadata": {},
          "execution_count": 7
        }
      ],
      "source": [
        "# Cálculo de correlación\n",
        "\n",
        "pearsonr(df['poblation'], df['profit'])"
      ]
    },
    {
      "cell_type": "markdown",
      "source": [
        "2. Interpreta el resultado:\n",
        "- ¿Qué tan fuerte es la relación?\n",
        "- ¿Es positiva o negativa?\n",
        "- ¿Es coherente con el gráfico anterior?\n",
        "\n",
        "La relacion es fuerte pues es positiva y muy cercana a uno, con esto se puede comprobar lo que se vio en la grafica de scatterplot anterior."
      ],
      "metadata": {
        "id": "Lfd1WjD48Cdu"
      },
      "id": "Lfd1WjD48Cdu"
    },
    {
      "cell_type": "markdown",
      "id": "d1de51f7",
      "metadata": {
        "id": "d1de51f7"
      },
      "source": [
        "## Parte 3: Construcción del modelo, coeficientes y visualización\n",
        "\n",
        "###3.1 Construcción del modelo - obtención de los parámetros y coeficientes\n",
        "1. Construye un modelo de regresión lineal simple usando las bibliotecas de Scikit-Learn\n",
        "2. Imprime el intercepto y el coeficiente de la regresión (pendiente)\n",
        "3. Interpreta el Intercepto: ¿Qué significa en términos del contexto del problema?\n",
        "4. Interpreta el coeficiente de la regresión (pendiente) ¿Qué significa en términos del contexto del problema?"
      ]
    },
    {
      "cell_type": "code",
      "source": [
        "from sklearn.linear_model import LinearRegression"
      ],
      "metadata": {
        "id": "Vgq0wM1XRMOV"
      },
      "id": "Vgq0wM1XRMOV",
      "execution_count": null,
      "outputs": []
    },
    {
      "cell_type": "code",
      "execution_count": null,
      "id": "e8988cdb",
      "metadata": {
        "id": "e8988cdb"
      },
      "outputs": [],
      "source": [
        "# Construcción del modelo  y Coeficientes del modelo\n"
      ]
    },
    {
      "cell_type": "markdown",
      "id": "ad94556c",
      "metadata": {
        "id": "ad94556c"
      },
      "source": [
        "### 3.2 Visualización del modelo\n",
        "1. Grafica los puntos originales (poblation vs profit) y dibuja la línea de regresión ajustada.\n",
        "2. Asegúrate de incluir leyenda y títulos."
      ]
    },
    {
      "cell_type": "code",
      "execution_count": null,
      "id": "49dbd303",
      "metadata": {
        "id": "49dbd303"
      },
      "outputs": [],
      "source": [
        "# Visualización del modelo ajustado\n"
      ]
    },
    {
      "cell_type": "markdown",
      "id": "073a73d4",
      "metadata": {
        "id": "073a73d4"
      },
      "source": [
        "## Parte 4: Supuestos del modelo de regresión lineal\n",
        "\n",
        "### 4.1. Normalidad de los residuos\n",
        "1. Calcula los residuos (reales - predichos).\n",
        "2. Grafica un **histograma con KDE** de los residuos.\n",
        "3. Responde: ¿Los residuos siguen una distribución normal?"
      ]
    },
    {
      "cell_type": "code",
      "execution_count": null,
      "id": "5bd20356",
      "metadata": {
        "id": "5bd20356"
      },
      "outputs": [],
      "source": [
        "# Normalidad de los residuos\n"
      ]
    },
    {
      "cell_type": "markdown",
      "id": "8aef2174",
      "metadata": {
        "id": "8aef2174"
      },
      "source": [
        "### 4.2. Homocedasticidad\n",
        "1. Grafica los residuos vs valores predichos.\n",
        "2. ¿Los residuos están distribuidos aleatoriamente o muestran un patrón?"
      ]
    },
    {
      "cell_type": "code",
      "execution_count": null,
      "id": "bcaa539c",
      "metadata": {
        "id": "bcaa539c"
      },
      "outputs": [],
      "source": [
        "# Gráfico de residuos vs predichos\n"
      ]
    },
    {
      "cell_type": "markdown",
      "source": [
        "### 4.3. Q-Q Plot para evaluar la normalidad\n",
        "1. Grafica el Q-Q Plot:.\n",
        "2. Interpreta el gráfico: a) Si los puntos se alinean aproximadamente sobre la línea diagonal, los residuos siguen una distribución normal y b) Desviaciones sistemáticas indican asimetría o colas pesadas."
      ],
      "metadata": {
        "id": "RPg6BDvPJEDm"
      },
      "id": "RPg6BDvPJEDm"
    },
    {
      "cell_type": "code",
      "source": [
        "# Q-Q Plot\n"
      ],
      "metadata": {
        "id": "FWq_n2rLJn8j"
      },
      "id": "FWq_n2rLJn8j",
      "execution_count": null,
      "outputs": []
    },
    {
      "cell_type": "markdown",
      "id": "d538c70c",
      "metadata": {
        "id": "d538c70c"
      },
      "source": [
        "## Parte 5: Evaluación del modelo\n",
        "1. Calcula las métricas:\n",
        "- MSE\n",
        "- RMSE\n",
        "- R²\n",
        "2. Interpreta: ¿Qué nos dicen sobre el ajuste del modelo?"
      ]
    },
    {
      "cell_type": "code",
      "execution_count": null,
      "id": "6a2e749d",
      "metadata": {
        "id": "6a2e749d"
      },
      "outputs": [],
      "source": [
        "# Evaluación del modelo\n"
      ]
    },
    {
      "cell_type": "markdown",
      "id": "d2ee2c3e",
      "metadata": {
        "id": "d2ee2c3e"
      },
      "source": [
        "## Parte 6: Conclusiones\n",
        "Responde con tus propias palabras:\n",
        "- ¿Qué tan útil consideras el modelo?\n",
        "- ¿Qué limitaciones encuentras?\n",
        "- ¿Crees que es necesario hacer un ajuste o estandarización a las variables dependientes o independientes?  Si crees que es necesario hacerlo realiza el ajuste."
      ]
    }
  ],
  "metadata": {
    "colab": {
      "provenance": [],
      "include_colab_link": true
    },
    "language_info": {
      "name": "python"
    },
    "kernelspec": {
      "name": "python3",
      "display_name": "Python 3"
    }
  },
  "nbformat": 4,
  "nbformat_minor": 5
}